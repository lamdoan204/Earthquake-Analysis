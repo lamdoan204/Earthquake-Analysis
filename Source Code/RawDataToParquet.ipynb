{
 "cells": [
  {
   "cell_type": "code",
   "execution_count": 0,
   "metadata": {
    "application/vnd.databricks.v1+cell": {
     "cellMetadata": {
      "byteLimit": 2048000,
      "rowLimit": 10000
     },
     "inputWidgets": {},
     "nuid": "57203493-60c9-4e15-ae61-a48e644627bd",
     "showTitle": false,
     "tableResultSettingsMap": {},
     "title": ""
    }
   },
   "outputs": [],
   "source": [
    "bronze_path = \"abfss://rawdata@bigdatacuoiky.dfs.core.windows.net/earthquakes_combined_2020_2025.geojson\"\n",
    "silver_output_path = \"abfss://silver@bigdatacuoiky.dfs.core.windows.net/earthquake_events_silver/\"\n",
    "raw_df = spark.read.option(\"multiline\", \"true\").json(bronze_path)\n",
    "\n",
    "# Load JSON trực tiếp từ Bronze path\n",
    "df = spark.read.option(\"multiline\", \"true\").json(bronze_path)\n",
    "\n",
    "# Tiền xử lý\n",
    "from pyspark.sql.functions import col, isnull, when\n",
    "from pyspark.sql.types import TimestampType\n",
    "from pyspark.sql.functions import explode\n",
    "\n",
    "df = raw_df.select(explode(\"features\").alias(\"feature\"))\n",
    "\n",
    "# Trích xuất các cột cần thiết từ feature.*\n",
    "df = df.select(\n",
    "    col(\"feature.id\").alias(\"id\"),\n",
    "    col(\"feature.geometry.coordinates\").getItem(0).alias(\"longitude\"),\n",
    "    col(\"feature.geometry.coordinates\").getItem(1).alias(\"latitude\"),\n",
    "    col(\"feature.geometry.coordinates\").getItem(2).alias(\"elevation\"),\n",
    "    col(\"feature.properties.title\").alias(\"title\"),\n",
    "    col(\"feature.properties.place\").alias(\"place_description\"),\n",
    "    col(\"feature.properties.sig\").alias(\"sig\"),\n",
    "    col(\"feature.properties.mag\").alias(\"mag\"),\n",
    "    col(\"feature.properties.magType\").alias(\"magType\"),\n",
    "    col(\"feature.properties.time\").alias(\"time\"),\n",
    "    col(\"feature.properties.updated\").alias(\"updated\")\n",
    ")\n",
    "\n",
    "# Gán mặc định nếu null và chuyển đổi kiểu timestamp\n",
    "df = df.withColumn('longitude', when(isnull(col('longitude')), 0).otherwise(col('longitude')))\\\n",
    "       .withColumn('latitude', when(isnull(col('latitude')), 0).otherwise(col('latitude')))\\\n",
    "       .withColumn('time', when(isnull(col('time')), 0).otherwise(col('time')))\\\n",
    "       .withColumn('time', (col('time') / 1000).cast(TimestampType()))\\\n",
    "       .withColumn('updated', (col('updated') / 1000).cast(TimestampType()))\n",
    "\n",
    "# Ghi ra Silver layer\n",
    "df.write.mode(\"overwrite\").parquet(silver_output_path)\n"
   ]
  },
  {
   "cell_type": "code",
   "execution_count": 0,
   "metadata": {
    "application/vnd.databricks.v1+cell": {
     "cellMetadata": {
      "byteLimit": 2048000,
      "rowLimit": 10000
     },
     "inputWidgets": {},
     "nuid": "de0deb29-346a-4d56-a766-c5245dec52e7",
     "showTitle": false,
     "tableResultSettingsMap": {},
     "title": ""
    }
   },
   "outputs": [],
   "source": [
    "silver_output_path = \"abfss://silver@bigdatacuoiky.dfs.core.windows.net/earthquake_events_silver/\"\n",
    "gold_output_path = \"abfss://gold@bigdatacuoiky.dfs.core.windows.net/earthquake_events_gold/\"\n",
    "\n",
    "from pyspark.sql.functions import col, when, udf\n",
    "from pyspark.sql.types import StringType\n",
    "import reverse_geocoder as rg\n",
    "\n",
    "df = spark.read.parquet(silver_output_path)\n",
    "\n",
    "df = df.withColumn(\"sig_class\", when(col(\"sig\") < 100, \"Low\")\n",
    "                                 .when((col(\"sig\") >= 100) & (col(\"sig\") < 500), \"Moderate\")\n",
    "                                 .otherwise(\"High\"))\n",
    "\n",
    "df.write.mode(\"overwrite\").parquet(gold_output_path)\n"
   ]
  },
  {
   "cell_type": "code",
   "execution_count": 0,
   "metadata": {
    "application/vnd.databricks.v1+cell": {
     "cellMetadata": {
      "byteLimit": 2048000,
      "rowLimit": 10000
     },
     "inputWidgets": {},
     "nuid": "64139294-d08b-4bf2-b019-5b1fc282e891",
     "showTitle": false,
     "tableResultSettingsMap": {},
     "title": ""
    }
   },
   "outputs": [
    {
     "output_type": "stream",
     "name": "stdout",
     "output_type": "stream",
     "text": [
      "+------------+------------+-----------+-----------+--------------------+--------------------+---+----+-------+--------------------+--------------------+---------+\n|          id|   longitude|   latitude|  elevation|               title|   place_description|sig| mag|magType|                time|             updated|sig_class|\n+------------+------------+-----------+-----------+--------------------+--------------------+---+----+-------+--------------------+--------------------+---------+\n|ak0219pcfvx9|   -155.2341|     65.771|        4.0|M 0.9 - 54 km E o...|54 km E of Huslia...| 12| 0.9|     ml|2021-07-30 23:59:...|2021-08-13 03:19:...|      Low|\n|  ok2021ovmz|-97.50583333|36.97083333|       3.28|M 1.9 - 9 km WSW ...|9 km WSW of Hunne...| 53|1.85|     ml|2021-07-30 23:54:...|2021-08-02 14:25:...|      Low|\n|  nc73602856|-119.5573333|    38.4215|       5.14|M 1.6 - 26km ENE ...|26km ENE of Darda...| 39|1.59|     md|2021-07-30 23:54:...|2021-08-07 06:38:...|      Low|\n|  tx2021ovmy|-98.63085938|28.51776123|2.225382487|M 2.1 - 10 km NW ...|10 km NW of Tilde...| 68| 2.1|     ml|2021-07-30 23:53:...|2021-08-02 16:26:...|      Low|\n|ak0219pcenj8|   -144.7169|    69.5164|       28.5|M 1.4 - 80 km SSW...|80 km SSW of Kakt...| 30| 1.4|     ml|2021-07-30 23:53:...|2021-08-13 03:19:...|      Low|\n+------------+------------+-----------+-----------+--------------------+--------------------+---+----+-------+--------------------+--------------------+---------+\nonly showing top 5 rows\n\nroot\n |-- id: string (nullable = true)\n |-- longitude: double (nullable = true)\n |-- latitude: double (nullable = true)\n |-- elevation: double (nullable = true)\n |-- title: string (nullable = true)\n |-- place_description: string (nullable = true)\n |-- sig: long (nullable = true)\n |-- mag: double (nullable = true)\n |-- magType: string (nullable = true)\n |-- time: timestamp (nullable = true)\n |-- updated: timestamp (nullable = true)\n |-- sig_class: string (nullable = true)\n\n+-------+------------+-------------------+------------------+------------------+--------------------+--------------------+-----------------+------------------+-------+---------+\n|summary|          id|          longitude|          latitude|         elevation|               title|   place_description|              sig|               mag|magType|sig_class|\n+-------+------------+-------------------+------------------+------------------+--------------------+--------------------+-----------------+------------------+-------+---------+\n|  count|      818243|             818243|            818243|            818243|              818243|              818243|           818243|            818161| 818160|   818243|\n|   mean|        NULL|-113.17080899887243| 39.40390502524015|23.889826104705534|                NULL|                NULL|64.38797765455983|1.6157289295833455|   NULL|     NULL|\n| stddev|        NULL|  69.36056580322905|20.140036859886454| 54.33671870055917|                NULL|                NULL|  94.561084352937|1.2493356521497239|   NULL|     NULL|\n|    min|ak02010dwq60|          -179.9997|          -82.8837|             -10.0|M -0.1 - 0 km ESE...|0 km  of Prattvil...|                0|              -5.0|     mb|     High|\n|    max|  uw62095896|           179.9994|            87.386|           681.238|M ? Sonic Boom - ...|~120km W of Hanoi...|             2910|               8.2|    mww| Moderate|\n+-------+------------+-------------------+------------------+------------------+--------------------+--------------------+-----------------+------------------+-------+---------+\n\n"
     ]
    }
   ],
   "source": [
    "df = spark.read.parquet(\"abfss://gold@bigdatacuoiky.dfs.core.windows.net/earthquake_events_gold/\")\n",
    "df.show(5)\n",
    "df.printSchema()\n",
    "df.describe().show()\n"
   ]
  }
 ],
 "metadata": {
  "application/vnd.databricks.v1+notebook": {
   "computePreferences": null,
   "dashboards": [],
   "environmentMetadata": {
    "base_environment": "",
    "environment_version": "2"
   },
   "inputWidgetPreferences": null,
   "language": "python",
   "notebookMetadata": {
    "pythonIndentUnit": 4
   },
   "notebookName": "RawDataToParquet",
   "widgets": {}
  },
  "language_info": {
   "name": "python"
  }
 },
 "nbformat": 4,
 "nbformat_minor": 0
}