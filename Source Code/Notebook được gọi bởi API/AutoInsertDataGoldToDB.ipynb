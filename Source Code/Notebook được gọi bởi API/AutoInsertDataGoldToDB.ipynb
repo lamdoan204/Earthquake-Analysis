{
 "cells": [
  {
   "cell_type": "code",
   "execution_count": 0,
   "metadata": {
    "application/vnd.databricks.v1+cell": {
     "cellMetadata": {
      "byteLimit": 2048000,
      "rowLimit": 10000
     },
     "inputWidgets": {},
     "nuid": "d5284521-c575-447a-b335-99e889ca5087",
     "showTitle": false,
     "tableResultSettingsMap": {},
     "title": ""
    }
   },
   "outputs": [],
   "source": [
    "# JDBC URL\n",
    "jdbc_url = \"jdbc:sqlserver://doanquanglam.database.windows.net:1433;database=BigdataCuoiKy-DoanQuangLam\"\n",
    "\n",
    "# Nếu dùng trực tiếp username/password (không khuyến khích trong production)\n",
    "username = \"CloudSAe8cbab11\"  # thay bằng tên người dùng của bạn\n",
    "password = \"@Doanquanglam281\"  # thay bằng mật khẩu thực tế"
   ]
  },
  {
   "cell_type": "code",
   "execution_count": 0,
   "metadata": {
    "application/vnd.databricks.v1+cell": {
     "cellMetadata": {},
     "inputWidgets": {},
     "nuid": "065167c5-10cc-4ac8-9f07-4166e20b3a05",
     "showTitle": false,
     "tableResultSettingsMap": {},
     "title": ""
    }
   },
   "outputs": [],
   "source": [
    "spark.conf.set(\n",
    "  \"fs.azure.account.key.doanquanglam.blob.core.windows.net\",\n",
    "  \"6b+5X1whqm5IG8eQDg/0AAIU5tiu3aEXgmqJrBheRTjmmnS80mCFb7yeirJXZf16oYfV97wdwZJx+AStb2G5RQ==\"\n",
    ")\n",
    "\n"
   ]
  },
  {
   "cell_type": "code",
   "execution_count": 0,
   "metadata": {
    "application/vnd.databricks.v1+cell": {
     "cellMetadata": {},
     "inputWidgets": {},
     "nuid": "f956e437-f3b7-42b0-ae3a-5544d111cdae",
     "showTitle": false,
     "tableResultSettingsMap": {},
     "title": ""
    }
   },
   "outputs": [],
   "source": [
    "dbutils.widgets.text(\"blob_path\", \"\")\n",
    "blob_path = dbutils.widgets.get(\"blob_path\")\n"
   ]
  },
  {
   "cell_type": "code",
   "execution_count": 0,
   "metadata": {
    "application/vnd.databricks.v1+cell": {
     "cellMetadata": {},
     "inputWidgets": {},
     "nuid": "60e5ccde-cbdc-4d3f-9d2b-5cf0359e2f0e",
     "showTitle": false,
     "tableResultSettingsMap": {},
     "title": ""
    }
   },
   "outputs": [],
   "source": [
    "#  xử lý chuỗi để spark có thể đọc được file \n",
    "# Chuyển đổi sang định dạng wasbs\n",
    "from urllib.parse import urlparse\n",
    "# http://doanquanglam.blob.core.windows.net/rawdata/234/test_data.json\n",
    "# thành\n",
    "# wasbs://rawdata@doanquanglam.blob.core.windows.net/234/test_data.json\n",
    "parsed_url = urlparse(blob_path)\n",
    "container = parsed_url.path.split('/')[1]\n",
    "path_in_container = '/'.join(parsed_url.path.split('/')[2:])\n",
    "account = parsed_url.netloc.split('.')[0]\n",
    "wasbs_path = f\"wasbs://{container}@{account}.blob.core.windows.net/{path_in_container}\"\n",
    "\n",
    "df = spark.read.format(\"parquet\").load(wasbs_path)"
   ]
  },
  {
   "cell_type": "code",
   "execution_count": 0,
   "metadata": {
    "application/vnd.databricks.v1+cell": {
     "cellMetadata": {},
     "inputWidgets": {},
     "nuid": "a2824570-6ee6-4d0d-b6b7-cc36f81b87f7",
     "showTitle": false,
     "tableResultSettingsMap": {},
     "title": ""
    }
   },
   "outputs": [],
   "source": [
    "# Ghi vào bảng tên là 'earthquake_results'\n",
    "df.write \\\n",
    "  .format(\"jdbc\") \\\n",
    "  .option(\"url\", jdbc_url) \\\n",
    "  .option(\"dbtable\", \"earthquake_events_table\") \\\n",
    "  .option(\"user\", username) \\\n",
    "  .option(\"password\", password) \\\n",
    "  .option(\"driver\", \"com.microsoft.sqlserver.jdbc.SQLServerDriver\") \\\n",
    "  .mode(\"append\") \\\n",
    "  .save()"
   ]
  }
 ],
 "metadata": {
  "application/vnd.databricks.v1+notebook": {
   "computePreferences": null,
   "dashboards": [],
   "environmentMetadata": {
    "base_environment": "",
    "environment_version": "2"
   },
   "inputWidgetPreferences": null,
   "language": "python",
   "notebookMetadata": {
    "pythonIndentUnit": 4
   },
   "notebookName": "AutoInsertDataGoldToDB",
   "widgets": {}
  },
  "language_info": {
   "name": "python"
  }
 },
 "nbformat": 4,
 "nbformat_minor": 0
}