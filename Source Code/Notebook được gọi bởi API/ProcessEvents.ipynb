{
 "cells": [
  {
   "cell_type": "code",
   "execution_count": 0,
   "metadata": {
    "application/vnd.databricks.v1+cell": {
     "cellMetadata": {},
     "inputWidgets": {},
     "nuid": "bad88cc9-d22b-4556-a5c9-66b5c4c5eb85",
     "showTitle": false,
     "tableResultSettingsMap": {},
     "title": ""
    }
   },
   "outputs": [],
   "source": [
    "from pyspark.sql.functions import col, isnull, when, udf\n",
    "from pyspark.sql.types import TimestampType\n",
    "from pyspark.sql.types import StringType\n",
    "from pyspark.sql.functions import round\n",
    "import pandas as pd\n",
    "from datetime import datetime\n",
    "\n",
    "spark.conf.set(\n",
    "  \"fs.azure.account.key.doanquanglam.blob.core.windows.net\",\n",
    "  \"6b+5X1whqm5IG8eQDg/0AAIU5tiu3aEXgmqJrBheRTjmmnS80mCFb7yeirJXZf16oYfV97wdwZJx+AStb2G5RQ==\"\n",
    ")"
   ]
  },
  {
   "cell_type": "code",
   "execution_count": 0,
   "metadata": {
    "application/vnd.databricks.v1+cell": {
     "cellMetadata": {},
     "inputWidgets": {},
     "nuid": "421f1333-3f94-47d9-bcfb-888c86efa278",
     "showTitle": false,
     "tableResultSettingsMap": {},
     "title": ""
    }
   },
   "outputs": [],
   "source": [
    "dbutils.widgets.text(\"blob_path\", \"\")\n",
    "blob_path = dbutils.widgets.get(\"blob_path\")\n"
   ]
  },
  {
   "cell_type": "code",
   "execution_count": 0,
   "metadata": {
    "application/vnd.databricks.v1+cell": {
     "cellMetadata": {
      "byteLimit": 2048000,
      "rowLimit": 10000
     },
     "inputWidgets": {},
     "nuid": "cfa3ff5f-9555-4e02-b8c4-106e5a9078c4",
     "showTitle": false,
     "tableResultSettingsMap": {},
     "title": ""
    }
   },
   "outputs": [
    {
     "output_type": "stream",
     "name": "stdout",
     "output_type": "stream",
     "text": [
      "✅ wasbs path: wasbs://rawdata@doanquanglam.blob.core.windows.net/234/test_data.json\n"
     ]
    }
   ],
   "source": [
    "#  xử lý chuỗi để spark có thể đọc được file \n",
    "# Chuyển đổi sang định dạng wasbs\n",
    "from urllib.parse import urlparse\n",
    "\n",
    "parsed_url = urlparse(blob_path)\n",
    "container = parsed_url.path.split('/')[1]\n",
    "path_in_container = '/'.join(parsed_url.path.split('/')[2:])\n",
    "account = parsed_url.netloc.split('.')[0]\n",
    "wasbs_path = f\"wasbs://{container}@{account}.blob.core.windows.net/{path_in_container}\"\n",
    "\n",
    "js = spark.read.format(\"json\").load(wasbs_path)\n"
   ]
  },
  {
   "cell_type": "code",
   "execution_count": 0,
   "metadata": {
    "application/vnd.databricks.v1+cell": {
     "cellMetadata": {},
     "inputWidgets": {},
     "nuid": "9fe877d3-be55-4000-a1d0-afc98f8a4a70",
     "showTitle": false,
     "tableResultSettingsMap": {},
     "title": ""
    }
   },
   "outputs": [],
   "source": [
    "df = (\n",
    "    js\n",
    "    .select(\n",
    "        'id',\n",
    "        col('geometry.coordinates').getItem(0).alias('longitude'),\n",
    "        col('geometry.coordinates').getItem(1).alias('latitude'),\n",
    "        col('geometry.coordinates').getItem(2).alias('elevation'),\n",
    "        col('properties.title').alias('title'),\n",
    "        col('properties.place').alias('place_description'),\n",
    "        col('properties.sig').alias('sig'),\n",
    "        col('properties.mag').alias('mag'),\n",
    "        col('properties.magType').alias('magType'),\n",
    "        col('properties.time').alias('time'),\n",
    "        col('properties.updated').alias('updated')\n",
    "    )\n",
    ")"
   ]
  },
  {
   "cell_type": "code",
   "execution_count": 0,
   "metadata": {
    "application/vnd.databricks.v1+cell": {
     "cellMetadata": {},
     "inputWidgets": {},
     "nuid": "a76df73f-f4f1-4e5f-8ed5-d130b6da183e",
     "showTitle": false,
     "tableResultSettingsMap": {},
     "title": ""
    }
   },
   "outputs": [],
   "source": [
    "# chuyển đổi 'time' và 'updated' từ timestamp sang Unix time\n",
    "df = (\n",
    "    df\n",
    "    .withColumn('time', (col('time') / 1000).cast(TimestampType()))\n",
    "    .withColumn('updated', (col('updated') / 1000).cast(TimestampType()))\n",
    ")\n",
    "\n",
    "\n",
    "today_str = datetime.today().strftime('%Y-%m-%d_%H-%M-%S')\n",
    "\n",
    "# output_path = f\"wasbs://silver@doanquanglam.blob.core.windows.net/{today_str}/\"\n",
    "output_path = f\"wasbs://silver@doanquanglam.blob.core.windows.net/\"\n",
    "\n",
    "df.write.mode('append').parquet(output_path)\n",
    "\n",
    "# lớp vàng \n",
    "\n",
    "# thay giá trị null của latitude và longtude thành 0 nếu nó là null\n",
    "df = (\n",
    "    df\n",
    "    .withColumn('longitude', when(isnull(col('longitude')), 0).otherwise(col('longitude')))\n",
    "    .withColumn('latitude', when(isnull(col('latitude')), 0).otherwise(col('latitude')))\n",
    ")"
   ]
  },
  {
   "cell_type": "code",
   "execution_count": 0,
   "metadata": {
    "application/vnd.databricks.v1+cell": {
     "cellMetadata": {},
     "inputWidgets": {},
     "nuid": "9c7765ac-ca91-412a-b31e-10a1667c3b13",
     "showTitle": false,
     "tableResultSettingsMap": {},
     "title": ""
    }
   },
   "outputs": [],
   "source": [
    "df = df.filter(df.id.isNotNull())"
   ]
  },
  {
   "cell_type": "code",
   "execution_count": 0,
   "metadata": {
    "application/vnd.databricks.v1+cell": {
     "cellMetadata": {},
     "inputWidgets": {},
     "nuid": "419725b6-fadc-410d-84f7-b63195750638",
     "showTitle": false,
     "tableResultSettingsMap": {},
     "title": ""
    }
   },
   "outputs": [],
   "source": [
    "df = df.withColumn('sig_class', when(col(\"sig\") < 100, \"Low\").when((col(\"sig\") >= 100) & (col(\"sig\") < 500), \"Moderate\").otherwise(\"High\"))"
   ]
  },
  {
   "cell_type": "code",
   "execution_count": 0,
   "metadata": {
    "application/vnd.databricks.v1+cell": {
     "cellMetadata": {},
     "inputWidgets": {},
     "nuid": "26367b20-50e6-4ca9-a454-343441791072",
     "showTitle": false,
     "tableResultSettingsMap": {},
     "title": ""
    }
   },
   "outputs": [],
   "source": [
    "df = df.filter(df.magType.isNotNull())"
   ]
  },
  {
   "cell_type": "code",
   "execution_count": 0,
   "metadata": {
    "application/vnd.databricks.v1+cell": {
     "cellMetadata": {},
     "inputWidgets": {},
     "nuid": "1034b74f-50bf-4038-89f6-672cee133f76",
     "showTitle": false,
     "tableResultSettingsMap": {},
     "title": ""
    }
   },
   "outputs": [],
   "source": [
    "# làm tròn giá trị \n",
    "df = (\n",
    "    df\n",
    "    .withColumn(\"longitude\", round(col(\"longitude\"), 5))\n",
    "    .withColumn(\"latitude\", round(col(\"latitude\"), 5))\n",
    "    .withColumn(\"longitude\", round(col(\"longitude\"), 5))\n",
    "    .withColumn(\"elevation\", round(col(\"elevation\"), 5))\n",
    "    .withColumn(\"mag\", round(col(\"mag\"), 2))\n",
    ")"
   ]
  },
  {
   "cell_type": "code",
   "execution_count": 0,
   "metadata": {
    "application/vnd.databricks.v1+cell": {
     "cellMetadata": {},
     "inputWidgets": {},
     "nuid": "daff607f-ba9b-4b32-8d82-de6a3b086746",
     "showTitle": false,
     "tableResultSettingsMap": {},
     "title": ""
    }
   },
   "outputs": [],
   "source": [
    "\n",
    "\n",
    "# Tạo đường dẫn đầy đủ\n",
    "# output_path = f\"wasbs://gold@doanquanglam.blob.core.windows.net/{today_str}/\"\n",
    "output_path = f\"wasbs://gold@doanquanglam.blob.core.windows.net/\"\n",
    "\n",
    "# Ghi dữ liệu Parquet\n",
    "df.write.mode(\"overwrite\").option(\"header\", True).parquet(output_path)\n",
    "\n"
   ]
  }
 ],
 "metadata": {
  "application/vnd.databricks.v1+notebook": {
   "computePreferences": null,
   "dashboards": [],
   "environmentMetadata": {
    "base_environment": "",
    "environment_version": "2"
   },
   "inputWidgetPreferences": null,
   "language": "python",
   "notebookMetadata": {
    "pythonIndentUnit": 4
   },
   "notebookName": "ProcessEvents",
   "widgets": {}
  },
  "language_info": {
   "name": "python"
  }
 },
 "nbformat": 4,
 "nbformat_minor": 0
}