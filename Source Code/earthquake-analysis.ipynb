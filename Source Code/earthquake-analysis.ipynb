{
  "cells": [
    {
      "cell_type": "markdown",
      "metadata": {
        "nteract": {
          "transient": {
            "deleting": false
          }
        }
      },
      "source": [
        "## Import thư viện\n"
      ]
    },
    {
      "cell_type": "code",
      "execution_count": 28,
      "metadata": {},
      "outputs": [
        {
          "data": {
            "application/vnd.livy.statement-meta+json": {
              "execution_finish_time": "2025-05-26T03:09:02.0139762Z",
              "execution_start_time": "2025-05-26T03:09:01.7453433Z",
              "livy_statement_state": "available",
              "normalized_state": "finished",
              "parent_msg_id": "b030bd06-aaf5-4740-bbcb-c26a7ac0648b",
              "queued_time": "2025-05-26T03:09:01.7434264Z",
              "session_id": "0",
              "session_start_time": null,
              "spark_jobs": null,
              "spark_pool": "sparkpool",
              "state": "finished",
              "statement_id": 32,
              "statement_ids": [
                32
              ]
            },
            "text/plain": [
              "StatementMeta(sparkpool, 0, 32, Finished, Available, Finished)"
            ]
          },
          "metadata": {},
          "output_type": "display_data"
        }
      ],
      "source": [
        "from pyspark.sql.functions import min, max, count\n",
        "from pyspark.sql.functions import when\n",
        "from pyspark.sql.functions import year"
      ]
    },
    {
      "cell_type": "markdown",
      "metadata": {
        "nteract": {
          "transient": {
            "deleting": false
          }
        }
      },
      "source": [
        "## Đọc dữ liệu\n"
      ]
    },
    {
      "cell_type": "code",
      "execution_count": 1,
      "metadata": {
        "collapsed": false,
        "microsoft": {
          "language": "python"
        }
      },
      "outputs": [
        {
          "data": {
            "application/vnd.livy.statement-meta+json": {
              "execution_finish_time": "2025-05-26T02:09:19.1848875Z",
              "execution_start_time": "2025-05-26T02:08:39.405085Z",
              "livy_statement_state": "available",
              "normalized_state": "finished",
              "parent_msg_id": "83b91de8-0f66-4c4a-8174-7589d2601992",
              "queued_time": "2025-05-26T02:04:52.3098259Z",
              "session_id": "0",
              "session_start_time": "2025-05-26T02:04:52.3112668Z",
              "spark_jobs": null,
              "spark_pool": "sparkpool",
              "state": "finished",
              "statement_id": 2,
              "statement_ids": [
                2
              ]
            },
            "text/plain": [
              "StatementMeta(sparkpool, 0, 2, Finished, Available, Finished)"
            ]
          },
          "metadata": {},
          "output_type": "display_data"
        },
        {
          "data": {
            "application/vnd.synapse.widget-view+json": {
              "widget_id": "2af94ddf-1fc6-4399-88ce-29bc3f96e230",
              "widget_type": "Synapse.DataFrame"
            },
            "text/plain": [
              "SynapseWidget(Synapse.DataFrame, 2af94ddf-1fc6-4399-88ce-29bc3f96e230)"
            ]
          },
          "metadata": {},
          "output_type": "display_data"
        }
      ],
      "source": [
        "%%pyspark\n",
        "df = spark.read.load('abfss://data@cuoikybigdata.dfs.core.windows.net/part-00000-tid-3970032623210344264-a24d29ab-6531-4fb4-b5ea-0a6c2af054c0-44-1.c000.snappy.parquet', format='parquet')\n",
        "display(df.limit(10))"
      ]
    },
    {
      "cell_type": "markdown",
      "metadata": {
        "nteract": {
          "transient": {
            "deleting": false
          }
        }
      },
      "source": [
        "## Kiểu dữ liệu của các cột trong df\n"
      ]
    },
    {
      "cell_type": "code",
      "execution_count": 2,
      "metadata": {},
      "outputs": [
        {
          "data": {
            "application/vnd.livy.statement-meta+json": {
              "execution_finish_time": "2025-05-26T02:13:11.2554675Z",
              "execution_start_time": "2025-05-26T02:13:10.9965689Z",
              "livy_statement_state": "available",
              "normalized_state": "finished",
              "parent_msg_id": "78ba0d1b-b0f9-4a4f-8cc6-7aa9f303880b",
              "queued_time": "2025-05-26T02:13:10.9948471Z",
              "session_id": "0",
              "session_start_time": null,
              "spark_jobs": null,
              "spark_pool": "sparkpool",
              "state": "finished",
              "statement_id": 3,
              "statement_ids": [
                3
              ]
            },
            "text/plain": [
              "StatementMeta(sparkpool, 0, 3, Finished, Available, Finished)"
            ]
          },
          "metadata": {},
          "output_type": "display_data"
        },
        {
          "name": "stdout",
          "output_type": "stream",
          "text": [
            "Column: id | Data Type: StringType()\n",
            "Column: longitude | Data Type: DoubleType()\n",
            "Column: latitude | Data Type: DoubleType()\n",
            "Column: elevation | Data Type: DoubleType()\n",
            "Column: title | Data Type: StringType()\n",
            "Column: place_description | Data Type: StringType()\n",
            "Column: sig | Data Type: LongType()\n",
            "Column: mag | Data Type: DoubleType()\n",
            "Column: magType | Data Type: StringType()\n",
            "Column: time | Data Type: TimestampType()\n",
            "Column: updated | Data Type: TimestampType()\n",
            "Column: sig_class | Data Type: StringType()\n"
          ]
        }
      ],
      "source": [
        "for field in df.schema.fields:\n",
        "    print(f\"Column: {field.name} | Data Type: {field.dataType}\")\n"
      ]
    },
    {
      "cell_type": "markdown",
      "metadata": {
        "nteract": {
          "transient": {
            "deleting": false
          }
        }
      },
      "source": [
        "## Tổng quan dữ liệu\n"
      ]
    },
    {
      "cell_type": "code",
      "execution_count": 11,
      "metadata": {
        "collapsed": false
      },
      "outputs": [
        {
          "data": {
            "application/vnd.livy.statement-meta+json": {
              "execution_finish_time": "2025-05-26T02:35:59.7850955Z",
              "execution_start_time": "2025-05-26T02:35:57.8263146Z",
              "livy_statement_state": "available",
              "normalized_state": "finished",
              "parent_msg_id": "ea5504f2-8156-4eeb-b7db-969824d5fea9",
              "queued_time": "2025-05-26T02:35:57.8247819Z",
              "session_id": "0",
              "session_start_time": null,
              "spark_jobs": null,
              "spark_pool": "sparkpool",
              "state": "finished",
              "statement_id": 12,
              "statement_ids": [
                12
              ]
            },
            "text/plain": [
              "StatementMeta(sparkpool, 0, 12, Finished, Available, Finished)"
            ]
          },
          "metadata": {},
          "output_type": "display_data"
        },
        {
          "name": "stdout",
          "output_type": "stream",
          "text": [
            "Tổng số sự kiện: 818243\n",
            "+--------------------+--------------------+\n",
            "|            Earliest|              Latest|\n",
            "+--------------------+--------------------+\n",
            "|2020-01-01 00:01:...|2025-04-29 23:54:...|\n",
            "+--------------------+--------------------+\n",
            "\n",
            "+--------------------+--------------------+\n",
            "|   Cập nhật sớm nhất|   Cập nhật mới nhất|\n",
            "+--------------------+--------------------+\n",
            "|2020-01-01 00:28:...|2025-05-24 13:57:...|\n",
            "+--------------------+--------------------+\n",
            "\n"
          ]
        }
      ],
      "source": [
        "\n",
        "\n",
        "print(\"Tổng số sự kiện:\", df.count())\n",
        "\n",
        "# Thời gian sớm nhất và mới nhất của các sự kiện\n",
        "df.select(min(\"time\").alias(\"Earliest\"), max(\"time\").alias(\"Latest\")).show()\n",
        "\n",
        "# Thời gian cập nhật sớm nhất và mới nhất\n",
        "df.select(min(\"updated\").alias(\"Cập nhật sớm nhất\"), max(\"updated\").alias(\"Cập nhật mới nhất\")).show()\n"
      ]
    },
    {
      "cell_type": "markdown",
      "metadata": {
        "nteract": {
          "transient": {
            "deleting": false
          }
        }
      },
      "source": [
        "## Độ lớn của động đất\n"
      ]
    },
    {
      "cell_type": "code",
      "execution_count": 29,
      "metadata": {
        "collapsed": false
      },
      "outputs": [
        {
          "data": {
            "application/vnd.livy.statement-meta+json": {
              "execution_finish_time": "2025-05-26T03:11:36.8225289Z",
              "execution_start_time": "2025-05-26T03:11:28.1236377Z",
              "livy_statement_state": "available",
              "normalized_state": "finished",
              "parent_msg_id": "ff5cf4a6-d8f8-4797-9cb6-8024b9284602",
              "queued_time": "2025-05-26T03:11:28.1220417Z",
              "session_id": "0",
              "session_start_time": null,
              "spark_jobs": null,
              "spark_pool": "sparkpool",
              "state": "finished",
              "statement_id": 33,
              "statement_ids": [
                33
              ]
            },
            "text/plain": [
              "StatementMeta(sparkpool, 0, 33, Finished, Available, Finished)"
            ]
          },
          "metadata": {},
          "output_type": "display_data"
        },
        {
          "name": "stdout",
          "output_type": "stream",
          "text": [
            "Danh sách các kiểu độ lớn (magType) có trong dữ liệu:\n",
            "ms_20\n",
            "mb_lg\n",
            "mlg\n",
            "None\n",
            "mlr\n",
            "ml(texnet)\n",
            "mlv\n",
            "mww\n",
            "mwr\n",
            "ml\n",
            "mwb\n",
            "ms_vx\n",
            "mh\n",
            "mb\n",
            "mwp\n",
            "md\n",
            "mwc\n",
            "mun\n",
            "mw\n"
          ]
        },
        {
          "data": {
            "application/vnd.synapse.widget-view+json": {
              "widget_id": "93abf7aa-70fd-4ea4-a13b-235eebf8f22d",
              "widget_type": "Synapse.DataFrame"
            },
            "text/plain": [
              "SynapseWidget(Synapse.DataFrame, 93abf7aa-70fd-4ea4-a13b-235eebf8f22d)"
            ]
          },
          "metadata": {},
          "output_type": "display_data"
        }
      ],
      "source": [
        "\n",
        "mag_types = df.select(\"magType\").distinct().rdd.flatMap(lambda x: x).collect()\n",
        "\n",
        "print(\"Danh sách các kiểu độ lớn (magType) có trong dữ liệu:\")\n",
        "for mag in mag_types:\n",
        "    print(mag)\n",
        "\n",
        "# Phân phối số lượng theo từng loại độ lớn (magType)\n",
        "display(df.groupBy(\"magType\").count().orderBy(\"count\", ascending=False))\n"
      ]
    },
    {
      "cell_type": "markdown",
      "metadata": {
        "nteract": {
          "transient": {
            "deleting": false
          }
        }
      },
      "source": [
        "## Phân tích theo vị trí địa lý\n"
      ]
    },
    {
      "cell_type": "code",
      "execution_count": 15,
      "metadata": {
        "collapsed": false
      },
      "outputs": [
        {
          "data": {
            "application/vnd.livy.statement-meta+json": {
              "execution_finish_time": "2025-05-26T02:43:35.4143129Z",
              "execution_start_time": "2025-05-26T02:43:34.2241114Z",
              "livy_statement_state": "available",
              "normalized_state": "finished",
              "parent_msg_id": null,
              "queued_time": "2025-05-26T02:43:27.6937088Z",
              "session_id": "0",
              "session_start_time": null,
              "spark_jobs": null,
              "spark_pool": "sparkpool",
              "state": "finished",
              "statement_id": 19,
              "statement_ids": null
            },
            "text/plain": [
              "StatementMeta(sparkpool, 0, 19, Finished, Available, Finished)"
            ]
          },
          "metadata": {},
          "output_type": "display_data"
        },
        {
          "data": {
            "application/vnd.synapse.widget-view+json": {
              "widget_id": "4465aa48-db23-4f83-a25e-05c854ce5d4c",
              "widget_type": "Synapse.DataFrame"
            },
            "text/plain": [
              "SynapseWidget(Synapse.DataFrame, 4465aa48-db23-4f83-a25e-05c854ce5d4c)"
            ]
          },
          "metadata": {},
          "output_type": "display_data"
        }
      ],
      "source": [
        "# Top 10 khu vực có nhiều sự kiện động đất nhất\n",
        "display(df.groupBy(\"place_description\").count().orderBy(\"count\", ascending=False).limit(10))\n"
      ]
    },
    {
      "cell_type": "markdown",
      "metadata": {
        "nteract": {
          "transient": {
            "deleting": false
          }
        }
      },
      "source": [
        "## Phân tích theo độ cao và địa hình\n"
      ]
    },
    {
      "cell_type": "code",
      "execution_count": 27,
      "metadata": {
        "collapsed": false
      },
      "outputs": [
        {
          "data": {
            "application/vnd.livy.statement-meta+json": {
              "execution_finish_time": "2025-05-26T03:03:37.2154108Z",
              "execution_start_time": "2025-05-26T03:03:35.9967564Z",
              "livy_statement_state": "available",
              "normalized_state": "finished",
              "parent_msg_id": "a23e22da-a263-437a-a183-23aca1a33064",
              "queued_time": "2025-05-26T03:03:35.9950495Z",
              "session_id": "0",
              "session_start_time": null,
              "spark_jobs": null,
              "spark_pool": "sparkpool",
              "state": "finished",
              "statement_id": 31,
              "statement_ids": [
                31
              ]
            },
            "text/plain": [
              "StatementMeta(sparkpool, 0, 31, Finished, Available, Finished)"
            ]
          },
          "metadata": {},
          "output_type": "display_data"
        },
        {
          "data": {
            "application/vnd.synapse.widget-view+json": {
              "widget_id": "3b584486-a4c9-4016-b882-ce4348aba626",
              "widget_type": "Synapse.DataFrame"
            },
            "text/plain": [
              "SynapseWidget(Synapse.DataFrame, 3b584486-a4c9-4016-b882-ce4348aba626)"
            ]
          },
          "metadata": {},
          "output_type": "display_data"
        }
      ],
      "source": [
        "\n",
        "# Phân loại độ cao\n",
        "df_with_elevation = df.withColumn(\n",
        "    \"elevation_class\",\n",
        "    when(df.elevation < 0, \"Sea\")\n",
        "    .when((df.elevation >= 0) & (df.elevation < 200), \"Coastal lowland\")\n",
        "    .when((df.elevation >= 200) & (df.elevation < 500), \"Inland lowland\")\n",
        "    .when((df.elevation >= 500) & (df.elevation < 1000), \"Upland\")\n",
        "    .when((df.elevation >= 1000) & (df.elevation < 3000), \"Mountain\")\n",
        "    .otherwise(\"High mountain\")\n",
        ")\n",
        "\n",
        "\n",
        "# Số lượng động đất theo loại địa hình\n",
        "display(df_with_elevation.groupBy(\"elevation_class\").count().orderBy(\"count\", ascending=False))\n"
      ]
    },
    {
      "cell_type": "markdown",
      "metadata": {
        "nteract": {
          "transient": {
            "deleting": false
          }
        }
      },
      "source": [
        "##\n"
      ]
    },
    {
      "cell_type": "markdown",
      "metadata": {
        "nteract": {
          "transient": {
            "deleting": false
          }
        }
      },
      "source": [
        "## Phân tích độ nghiêm trọng\n"
      ]
    },
    {
      "cell_type": "code",
      "execution_count": 22,
      "metadata": {
        "collapsed": false
      },
      "outputs": [
        {
          "data": {
            "application/vnd.livy.statement-meta+json": {
              "execution_finish_time": "2025-05-26T02:51:31.8013824Z",
              "execution_start_time": "2025-05-26T02:51:30.6091321Z",
              "livy_statement_state": "available",
              "normalized_state": "finished",
              "parent_msg_id": "2951af44-ad49-4e28-8d46-d838becc9187",
              "queued_time": "2025-05-26T02:51:30.607417Z",
              "session_id": "0",
              "session_start_time": null,
              "spark_jobs": null,
              "spark_pool": "sparkpool",
              "state": "finished",
              "statement_id": 26,
              "statement_ids": [
                26
              ]
            },
            "text/plain": [
              "StatementMeta(sparkpool, 0, 26, Finished, Available, Finished)"
            ]
          },
          "metadata": {},
          "output_type": "display_data"
        },
        {
          "data": {
            "application/vnd.synapse.widget-view+json": {
              "widget_id": "ba0f8839-80bc-445b-99e4-00975840780e",
              "widget_type": "Synapse.DataFrame"
            },
            "text/plain": [
              "SynapseWidget(Synapse.DataFrame, ba0f8839-80bc-445b-99e4-00975840780e)"
            ]
          },
          "metadata": {},
          "output_type": "display_data"
        }
      ],
      "source": [
        "# Số lượng sự kiện theo từng nhóm phân loại độ nghiêm trọng (sig_class)\n",
        "display(df.groupBy(\"sig_class\").count().orderBy(\"count\", ascending=False))\n",
        "\n"
      ]
    },
    {
      "cell_type": "code",
      "execution_count": 23,
      "metadata": {
        "collapsed": false
      },
      "outputs": [
        {
          "data": {
            "application/vnd.livy.statement-meta+json": {
              "execution_finish_time": "2025-05-26T02:52:22.4350294Z",
              "execution_start_time": "2025-05-26T02:52:21.2420023Z",
              "livy_statement_state": "available",
              "normalized_state": "finished",
              "parent_msg_id": "e8e0638e-2b5e-413b-8de0-b7ed0580d8b9",
              "queued_time": "2025-05-26T02:52:21.240394Z",
              "session_id": "0",
              "session_start_time": null,
              "spark_jobs": null,
              "spark_pool": "sparkpool",
              "state": "finished",
              "statement_id": 27,
              "statement_ids": [
                27
              ]
            },
            "text/plain": [
              "StatementMeta(sparkpool, 0, 27, Finished, Available, Finished)"
            ]
          },
          "metadata": {},
          "output_type": "display_data"
        },
        {
          "data": {
            "application/vnd.synapse.widget-view+json": {
              "widget_id": "51d410db-cf71-4dc8-8234-da4f3b4a79a7",
              "widget_type": "Synapse.DataFrame"
            },
            "text/plain": [
              "SynapseWidget(Synapse.DataFrame, 51d410db-cf71-4dc8-8234-da4f3b4a79a7)"
            ]
          },
          "metadata": {},
          "output_type": "display_data"
        }
      ],
      "source": [
        "# Top 5 khu vực có mức độ nghiêm trọng cao nhất\n",
        "display(df.orderBy(\"sig\", ascending=False).select(\"title\", \"sig\", \"mag\", \"time\", \"place_description\").limit(5))\n"
      ]
    },
    {
      "cell_type": "markdown",
      "metadata": {
        "nteract": {
          "transient": {
            "deleting": false
          }
        }
      },
      "source": [
        "## Phân tích theo thời gian\n"
      ]
    },
    {
      "cell_type": "code",
      "execution_count": 24,
      "metadata": {
        "collapsed": false
      },
      "outputs": [
        {
          "data": {
            "application/vnd.livy.statement-meta+json": {
              "execution_finish_time": "2025-05-26T02:54:07.9750384Z",
              "execution_start_time": "2025-05-26T02:54:06.8050627Z",
              "livy_statement_state": "available",
              "normalized_state": "finished",
              "parent_msg_id": "6a06823a-e8a5-4748-bd6c-8fcbdd70b983",
              "queued_time": "2025-05-26T02:54:06.8032482Z",
              "session_id": "0",
              "session_start_time": null,
              "spark_jobs": null,
              "spark_pool": "sparkpool",
              "state": "finished",
              "statement_id": 28,
              "statement_ids": [
                28
              ]
            },
            "text/plain": [
              "StatementMeta(sparkpool, 0, 28, Finished, Available, Finished)"
            ]
          },
          "metadata": {},
          "output_type": "display_data"
        },
        {
          "data": {
            "application/vnd.synapse.widget-view+json": {
              "widget_id": "4d666790-5c43-42c5-b9da-658366297146",
              "widget_type": "Synapse.DataFrame"
            },
            "text/plain": [
              "SynapseWidget(Synapse.DataFrame, 4d666790-5c43-42c5-b9da-658366297146)"
            ]
          },
          "metadata": {},
          "output_type": "display_data"
        }
      ],
      "source": [
        "\n",
        "\n",
        "# Tạo cột mới 'year' từ cột thời gian\n",
        "df_with_year = df.withColumn(\"year\", year(\"time\"))\n",
        "\n",
        "# Số động đất theo từng năm\n",
        "display(df_with_year.groupBy(\"year\").count().orderBy(\"year\"))\n"
      ]
    },
    {
      "cell_type": "markdown",
      "metadata": {
        "nteract": {
          "transient": {
            "deleting": false
          }
        }
      },
      "source": [
        "## Mối quan hệ giữa độ lớn và độ nghiêm trọng\n"
      ]
    },
    {
      "cell_type": "code",
      "execution_count": 30,
      "metadata": {},
      "outputs": [
        {
          "data": {
            "application/vnd.livy.statement-meta+json": {
              "execution_finish_time": "2025-05-26T03:22:27.4729939Z",
              "execution_start_time": "2025-05-26T03:22:25.4571025Z",
              "livy_statement_state": "available",
              "normalized_state": "finished",
              "parent_msg_id": "26aecb5b-3adc-4397-8a0e-4d7c00fd4cf0",
              "queued_time": "2025-05-26T03:22:25.4553606Z",
              "session_id": "0",
              "session_start_time": null,
              "spark_jobs": null,
              "spark_pool": "sparkpool",
              "state": "finished",
              "statement_id": 34,
              "statement_ids": [
                34
              ]
            },
            "text/plain": [
              "StatementMeta(sparkpool, 0, 34, Finished, Available, Finished)"
            ]
          },
          "metadata": {},
          "output_type": "display_data"
        },
        {
          "name": "stdout",
          "output_type": "stream",
          "text": [
            "+------------------+\n",
            "|    corr(mag, sig)|\n",
            "+------------------+\n",
            "|0.9197624785628857|\n",
            "+------------------+\n",
            "\n"
          ]
        }
      ],
      "source": [
        "from pyspark.sql.functions import corr\n",
        "\n",
        "# Tính hệ số tương quan giữa độ lớn và độ nghiêm trọng\n",
        "df.select(corr(\"mag\", \"sig\")).show()\n"
      ]
    },
    {
      "cell_type": "code",
      "execution_count": 32,
      "metadata": {
        "collapsed": false
      },
      "outputs": [
        {
          "data": {
            "application/vnd.livy.statement-meta+json": {
              "execution_finish_time": "2025-05-26T03:23:01.7212101Z",
              "execution_start_time": "2025-05-26T03:23:00.545025Z",
              "livy_statement_state": "available",
              "normalized_state": "finished",
              "parent_msg_id": "ac4bdfd3-259b-43f0-a66c-705dc0e664fd",
              "queued_time": "2025-05-26T03:23:00.542994Z",
              "session_id": "0",
              "session_start_time": null,
              "spark_jobs": null,
              "spark_pool": "sparkpool",
              "state": "finished",
              "statement_id": 36,
              "statement_ids": [
                36
              ]
            },
            "text/plain": [
              "StatementMeta(sparkpool, 0, 36, Finished, Available, Finished)"
            ]
          },
          "metadata": {},
          "output_type": "display_data"
        },
        {
          "data": {
            "application/vnd.synapse.widget-view+json": {
              "widget_id": "fcb979fa-c9c0-475b-aed7-b2c20eec61eb",
              "widget_type": "Synapse.DataFrame"
            },
            "text/plain": [
              "SynapseWidget(Synapse.DataFrame, fcb979fa-c9c0-475b-aed7-b2c20eec61eb)"
            ]
          },
          "metadata": {},
          "output_type": "display_data"
        }
      ],
      "source": [
        "#Hiển thị dữ liệu mẫu thể hiện mối liên hệ giữa mag và sig\n",
        "display(\n",
        "    df.select(\"mag\", \"sig\")\n",
        "      .orderBy(\"mag\", ascending=False)\n",
        "      .limit(10)\n",
        ")\n"
      ]
    },
    {
      "cell_type": "code",
      "execution_count": 33,
      "metadata": {
        "collapsed": false
      },
      "outputs": [
        {
          "data": {
            "application/vnd.livy.statement-meta+json": {
              "execution_finish_time": "2025-05-26T03:24:13.842018Z",
              "execution_start_time": "2025-05-26T03:24:12.6497742Z",
              "livy_statement_state": "available",
              "normalized_state": "finished",
              "parent_msg_id": "e829105e-2ea7-479b-a8dd-8467ff828806",
              "queued_time": "2025-05-26T03:24:12.6478723Z",
              "session_id": "0",
              "session_start_time": null,
              "spark_jobs": null,
              "spark_pool": "sparkpool",
              "state": "finished",
              "statement_id": 37,
              "statement_ids": [
                37
              ]
            },
            "text/plain": [
              "StatementMeta(sparkpool, 0, 37, Finished, Available, Finished)"
            ]
          },
          "metadata": {},
          "output_type": "display_data"
        },
        {
          "data": {
            "application/vnd.synapse.widget-view+json": {
              "widget_id": "913dc232-8c66-4063-8ce0-216ff6fb65b2",
              "widget_type": "Synapse.DataFrame"
            },
            "text/plain": [
              "SynapseWidget(Synapse.DataFrame, 913dc232-8c66-4063-8ce0-216ff6fb65b2)"
            ]
          },
          "metadata": {},
          "output_type": "display_data"
        }
      ],
      "source": [
        "\n",
        "df_scatter = df.select(\"mag\", \"sig\").dropna()\n",
        "\n",
        "display(df_scatter)\n"
      ]
    },
    {
      "cell_type": "markdown",
      "metadata": {
        "nteract": {
          "transient": {
            "deleting": false
          }
        }
      },
      "source": [
        "## Kết luận\n"
      ]
    },
    {
      "cell_type": "markdown",
      "metadata": {
        "nteract": {
          "transient": {
            "deleting": false
          }
        }
      },
      "source": [
        "### Kết luận tổng thể về dữ liệu động đất:\n",
        "\n",
        "### Phân bố kiểu độ lớn (magType):\n",
        "\n",
        "##### Kiểu ml (local magnitude) chiếm đa số, cho thấy phần lớn các trận động đất được ghi nhận là các sự kiện nhỏ, gần tâm chấn, được mạng lưới địa chấn địa phương theo dõi.\n",
        "\n",
        "##### Các kiểu khác như md, mb cũng có tỷ lệ đáng kể, nhưng các kiểu còn lại rất ít xuất hiện, thể hiện sự đa dạng trong cách đo lường tùy theo tính chất trận động đất (quy mô, độ sâu, loại sóng).\n",
        "\n",
        "### Phân bố địa lý các trận động đất:\n",
        "\n",
        "##### Các vùng hoạt động địa chấn mạnh bao gồm California (The Geysers), Alaska, Hawaii, South Sandwich Islands, đều thuộc các vùng ranh giới mảng kiến tạo hoặc vùng núi lửa, đứt gãy địa chất lớn.\n",
        "\n",
        "##### Khu vực ven biển (coastal lowland) chiếm phần lớn số sự kiện (hơn 750,000), phản ánh đặc điểm địa chất nơi có hoạt động kiến tạo mạnh.\n",
        "\n",
        "##### Các vùng dưới biển (sea) cũng ghi nhận nhiều trận động đất, phù hợp với rãnh đại dương và hoạt động kiến tạo dưới đáy biển.\n",
        "\n",
        "##### Các vùng nội địa và vùng núi ít xảy ra động đất hơn, trừ khi gần đứt gãy địa chất.\n",
        "\n",
        "### Phân loại độ nghiêm trọng (sig):\n",
        "\n",
        "### Phần lớn trận động đất (~83%) thuộc nhóm Low về độ nghiêm trọng, tức thường là các trận động đất nhẹ, ít gây thiệt hại.\n",
        "\n",
        "##### Khoảng 16% là nhóm Moderate, có thể gây ảnh hưởng cục bộ nhưng không nghiêm trọng trên diện rộng.\n",
        "\n",
        "##### Nhóm High rất hiếm (~0.2%), nhưng lại là những sự kiện có khả năng gây hậu quả lớn về người và tài sản, cần đặc biệt quan tâm.\n",
        "\n",
        "##### Việc phân nhóm này giúp ưu tiên phân bổ nguồn lực quản lý rủi ro thiên tai hiệu quả.\n",
        "\n",
        "### Các trận động đất nghiêm trọng nổi bật:\n",
        "\n",
        "##### Những trận như M7.8 tại Thổ Nhĩ Kỳ, M7.7 tại Myanmar (2025), M7.1 tại Tây Tạng có chỉ số độ nghiêm trọng sig rất cao, phản ánh mức độ ảnh hưởng lớn.\n",
        "\n",
        "##### Chỉ số sig không chỉ phụ thuộc vào độ lớn mà còn liên quan mật thiết đến vị trí xảy ra (mật độ dân cư, hạ tầng), thiệt hại thực tế.\n",
        "\n",
        "##### Chuỗi động đất tại khu vực Kahramanmaras (Thổ Nhĩ Kỳ) là điểm nóng với ảnh hưởng nghiêm trọng đặc biệt cần chú ý.\n",
        "\n",
        "### Xu hướng số lượng trận động đất theo năm:\n",
        "\n",
        "##### Số vụ động đất đạt đỉnh vào năm 2020 (~175,000 vụ), sau đó có xu hướng giảm nhẹ và ổn định trong giai đoạn 2021-2023.\n",
        "\n",
        "##### Năm 2024 ghi nhận tăng nhẹ.\n",
        "\n",
        "##### Xu hướng này có thể phản ánh thay đổi tự nhiên hoặc ảnh hưởng của hệ thống ghi nhận, cần theo dõi thêm.\n",
        "\n",
        "### Mối quan hệ giữa độ lớn (mag) và độ nghiêm trọng (sig):\n",
        "\n",
        "##### Có xu hướng chung là khi độ nghiêm trọng tăng, độ lớn cũng có khả năng cao hơn, nhưng không phải quy luật chặt chẽ.\n",
        "\n",
        "##### Nhiều trường hợp độ nghiêm trọng cao nhưng độ lớn lại nhỏ, cho thấy yếu tố vị trí, mật độ dân cư và thiệt hại ảnh hưởng lớn đến đánh giá nghiêm trọng.\n",
        "\n",
        "### Tóm tắt ý nghĩa thực tiễn:\n",
        "\n",
        "##### Động đất chủ yếu xảy ra tại vùng ven biển và vùng có hoạt động kiến tạo mạnh, đặc biệt là California, Alaska, Hawaii và các rãnh đại dương.\n",
        "\n",
        "##### Mặc dù đa phần là các trận động đất nhẹ, không gây thiệt hại đáng kể, nhưng những trận nghiêm trọng dù ít nhưng cần được cảnh báo và quản lý nghiêm túc.\n",
        "\n",
        "##### Các yếu tố ngoài độ lớn như vị trí địa lý và mật độ dân cư đóng vai trò quyết định trong mức độ nghiêm trọng của động đất.\n",
        "\n",
        "##### Việc phân loại và phân tích chi tiết theo magType, địa điểm và mức độ nghiêm trọng giúp cải thiện công tác dự báo, giảm thiểu thiệt hại và tối ưu nguồn lực ứng phó.\n"
      ]
    }
  ],
  "metadata": {
    "kernel_info": {
      "name": "synapse_pyspark"
    },
    "kernelspec": {
      "display_name": "Synapse PySpark",
      "language": "Python",
      "name": "synapse_pyspark"
    },
    "language_info": {
      "name": "python"
    },
    "save_output": true,
    "synapse_widget": {
      "state": {
        "2af94ddf-1fc6-4399-88ce-29bc3f96e230": {
          "persist_state": {
            "view": {
              "chartOptions": {
                "aggregationType": "sum",
                "categoryFieldKeys": [
                  "0"
                ],
                "chartType": "bar",
                "isStacked": false,
                "seriesFieldKeys": [
                  "1"
                ]
              },
              "tableOptions": {},
              "type": "details"
            }
          },
          "sync_state": {
            "isSummary": false,
            "language": "scala",
            "table": {
              "rows": [
                {
                  "0": "ak0219pcfvx9",
                  "1": "-155.2341",
                  "2": "65.771",
                  "3": "4.0",
                  "4": "M 0.9 - 54 km E of Huslia, Alaska",
                  "5": "54 km E of Huslia, Alaska",
                  "6": "12",
                  "7": "0.9",
                  "8": "ml",
                  "9": "2021-07-30 23:59:20.339",
                  "10": "2021-08-13 03:19:54.649",
                  "11": "Low"
                },
                {
                  "0": "ok2021ovmz",
                  "1": "-97.50583333",
                  "2": "36.97083333",
                  "3": "3.28",
                  "4": "M 1.9 - 9 km WSW of Hunnewell, Kansas",
                  "5": "9 km WSW of Hunnewell, Kansas",
                  "6": "53",
                  "7": "1.85",
                  "8": "ml",
                  "9": "2021-07-30 23:54:45.009",
                  "10": "2021-08-02 14:25:58.702",
                  "11": "Low"
                },
                {
                  "0": "nc73602856",
                  "1": "-119.5573333",
                  "2": "38.4215",
                  "3": "5.14",
                  "4": "M 1.6 - 26km ENE of Dardanelle, CA",
                  "5": "26km ENE of Dardanelle, CA",
                  "6": "39",
                  "7": "1.59",
                  "8": "md",
                  "9": "2021-07-30 23:54:16.15",
                  "10": "2021-08-07 06:38:05.532",
                  "11": "Low"
                },
                {
                  "0": "tx2021ovmy",
                  "1": "-98.63085938",
                  "2": "28.51776123",
                  "3": "2.225382487",
                  "4": "M 2.1 - 10 km NW of Tilden, Texas",
                  "5": "10 km NW of Tilden, Texas",
                  "6": "68",
                  "7": "2.1",
                  "8": "ml",
                  "9": "2021-07-30 23:53:58.566",
                  "10": "2021-08-02 16:26:01.76",
                  "11": "Low"
                },
                {
                  "0": "ak0219pcenj8",
                  "1": "-144.7169",
                  "2": "69.5164",
                  "3": "28.5",
                  "4": "M 1.4 - 80 km SSW of Kaktovik, Alaska",
                  "5": "80 km SSW of Kaktovik, Alaska",
                  "6": "30",
                  "7": "1.4",
                  "8": "ml",
                  "9": "2021-07-30 23:53:42.004",
                  "10": "2021-08-13 03:19:54.301",
                  "11": "Low"
                },
                {
                  "0": "nn00817060",
                  "1": "-115.3634",
                  "2": "36.0664",
                  "3": "14.8",
                  "4": "M 2.8 - Nevada",
                  "5": "Nevada",
                  "6": "122",
                  "7": "2.8",
                  "8": "ml",
                  "9": "2021-07-30 23:53:18.228",
                  "10": "2021-10-14 01:04:03.04",
                  "11": "Moderate"
                },
                {
                  "0": "us6000f0ut",
                  "1": "-68.6052",
                  "2": "18.0501",
                  "3": "124.25",
                  "4": "M 2.6 - 36 km S of Boca de Yuma, Dominican Republic",
                  "5": "36 km S of Boca de Yuma, Dominican Republic",
                  "6": "104",
                  "7": "2.6",
                  "8": "ml",
                  "9": "2021-07-30 23:51:35.109",
                  "10": "2021-10-14 01:04:02.04",
                  "11": "Moderate"
                },
                {
                  "0": "nn00817056",
                  "1": "-117.801",
                  "2": "38.1906",
                  "3": "6.5",
                  "4": "M 1.9 Not Reported - 34 km SE of Mina, Nevada",
                  "5": "34 km SE of Mina, Nevada",
                  "6": "56",
                  "7": "1.9",
                  "8": "ml",
                  "9": "2021-07-30 23:50:40.507",
                  "10": "2021-08-02 18:28:01.365",
                  "11": "Low"
                },
                {
                  "0": "nn00817055",
                  "1": "-116.3325",
                  "2": "36.7118",
                  "3": "9.8",
                  "4": "M 1.0 - 43 km ESE of Beatty, Nevada",
                  "5": "43 km ESE of Beatty, Nevada",
                  "6": "15",
                  "7": "1.0",
                  "8": "ml",
                  "9": "2021-07-30 23:45:50.55",
                  "10": "2021-07-30 23:50:43.738",
                  "11": "Low"
                },
                {
                  "0": "ak0219pcc39e",
                  "1": "-155.8566",
                  "2": "55.555",
                  "3": "33.1",
                  "4": "M 3.6 - 179 km ESE of Chignik, Alaska",
                  "5": "179 km ESE of Chignik, Alaska",
                  "6": "199",
                  "7": "3.6",
                  "8": "ml",
                  "9": "2021-07-30 23:41:52.795",
                  "10": "2021-10-14 01:04:01.04",
                  "11": "Moderate"
                }
              ],
              "schema": [
                {
                  "key": "0",
                  "name": "id",
                  "type": "string"
                },
                {
                  "key": "1",
                  "name": "longitude",
                  "type": "double"
                },
                {
                  "key": "2",
                  "name": "latitude",
                  "type": "double"
                },
                {
                  "key": "3",
                  "name": "elevation",
                  "type": "double"
                },
                {
                  "key": "4",
                  "name": "title",
                  "type": "string"
                },
                {
                  "key": "5",
                  "name": "place_description",
                  "type": "string"
                },
                {
                  "key": "6",
                  "name": "sig",
                  "type": "bigint"
                },
                {
                  "key": "7",
                  "name": "mag",
                  "type": "double"
                },
                {
                  "key": "8",
                  "name": "magType",
                  "type": "string"
                },
                {
                  "key": "9",
                  "name": "time",
                  "type": "timestamp"
                },
                {
                  "key": "10",
                  "name": "updated",
                  "type": "timestamp"
                },
                {
                  "key": "11",
                  "name": "sig_class",
                  "type": "string"
                }
              ],
              "truncated": false
            },
            "wranglerEntryContext": {
              "dataframeType": "pyspark"
            }
          },
          "type": "Synapse.DataFrame"
        },
        "3b584486-a4c9-4016-b882-ce4348aba626": {
          "persist_state": {
            "view": {
              "chartOptions": {
                "aggregationType": "sum",
                "categoryFieldKeys": [
                  "0"
                ],
                "chartType": "bar",
                "isStacked": false,
                "seriesFieldKeys": [
                  "1"
                ]
              },
              "tableOptions": {},
              "type": "details"
            }
          },
          "sync_state": {
            "isSummary": false,
            "language": "scala",
            "table": {
              "rows": [
                {
                  "0": "Coastal lowland",
                  "1": "782815"
                },
                {
                  "0": "Sea",
                  "1": "25893"
                },
                {
                  "0": "Inland lowland",
                  "1": "5359"
                },
                {
                  "0": "Upland",
                  "1": "4176"
                }
              ],
              "schema": [
                {
                  "key": "0",
                  "name": "elevation_class",
                  "type": "string"
                },
                {
                  "key": "1",
                  "name": "count",
                  "type": "bigint"
                }
              ],
              "truncated": false
            },
            "wranglerEntryContext": {
              "dataframeType": "pyspark"
            }
          },
          "type": "Synapse.DataFrame"
        },
        "4465aa48-db23-4f83-a25e-05c854ce5d4c": {
          "persist_state": {
            "view": {
              "chartOptions": {
                "aggregationType": "sum",
                "categoryFieldKeys": [
                  "0",
                  "1"
                ],
                "chartType": "column",
                "isStacked": false,
                "seriesFieldKeys": [
                  "1"
                ]
              },
              "evaluatesOverAllRecords": false,
              "tableOptions": {},
              "type": "details"
            }
          },
          "sync_state": {
            "chart": {
              "count": {
                "6km NW of The Geysers, CA": 2804,
                "7 km NW of The Geysers, CA": 2874,
                "7 km SW of Volcano, Hawaii": 2169,
                "7km NW of The Geysers, CA": 4426,
                "8 km NW of Prague, Oklahoma": 3177,
                "85 km NW of Karluk, Alaska": 2174,
                "8km NW of The Geysers, CA": 3788,
                "Rat Islands, Aleutian Islands, Alaska": 3202,
                "South Sandwich Islands region": 2968,
                "Southern Alaska": 2544
              }
            },
            "isSummary": false,
            "language": "scala",
            "table": {
              "rows": [
                {
                  "0": "7km NW of The Geysers, CA",
                  "1": "4426"
                },
                {
                  "0": "8km NW of The Geysers, CA",
                  "1": "3788"
                },
                {
                  "0": "Rat Islands, Aleutian Islands, Alaska",
                  "1": "3202"
                },
                {
                  "0": "8 km NW of Prague, Oklahoma",
                  "1": "3177"
                },
                {
                  "0": "South Sandwich Islands region",
                  "1": "2968"
                },
                {
                  "0": "7 km NW of The Geysers, CA",
                  "1": "2874"
                },
                {
                  "0": "6km NW of The Geysers, CA",
                  "1": "2804"
                },
                {
                  "0": "Southern Alaska",
                  "1": "2544"
                },
                {
                  "0": "85 km NW of Karluk, Alaska",
                  "1": "2174"
                },
                {
                  "0": "7 km SW of Volcano, Hawaii",
                  "1": "2169"
                }
              ],
              "schema": [
                {
                  "key": "0",
                  "name": "place_description",
                  "type": "string"
                },
                {
                  "key": "1",
                  "name": "count",
                  "type": "bigint"
                }
              ],
              "truncated": false
            },
            "wranglerEntryContext": {
              "dataframeType": "pyspark"
            }
          },
          "type": "Synapse.DataFrame"
        },
        "4d666790-5c43-42c5-b9da-658366297146": {
          "persist_state": {
            "view": {
              "chartOptions": {
                "aggregationType": "sum",
                "categoryFieldKeys": [
                  "0"
                ],
                "chartType": "line",
                "isStacked": false,
                "seriesFieldKeys": [
                  "1"
                ]
              },
              "tableOptions": {},
              "type": "details"
            }
          },
          "sync_state": {
            "isSummary": false,
            "language": "scala",
            "table": {
              "rows": [
                {
                  "0": "2020",
                  "1": "175295"
                },
                {
                  "0": "2021",
                  "1": "158078"
                },
                {
                  "0": "2022",
                  "1": "145198"
                },
                {
                  "0": "2023",
                  "1": "145691"
                },
                {
                  "0": "2024",
                  "1": "150039"
                },
                {
                  "0": "2025",
                  "1": "43942"
                }
              ],
              "schema": [
                {
                  "key": "0",
                  "name": "year",
                  "type": "int"
                },
                {
                  "key": "1",
                  "name": "count",
                  "type": "bigint"
                }
              ],
              "truncated": false
            },
            "wranglerEntryContext": {
              "dataframeType": "pyspark"
            }
          },
          "type": "Synapse.DataFrame"
        },
        "51d410db-cf71-4dc8-8234-da4f3b4a79a7": {
          "persist_state": {
            "view": {
              "chartOptions": {
                "aggregationType": "sum",
                "categoryFieldKeys": [
                  "0"
                ],
                "chartType": "column",
                "isStacked": false,
                "seriesFieldKeys": [
                  "1"
                ]
              },
              "tableOptions": {},
              "type": "details"
            }
          },
          "sync_state": {
            "isSummary": false,
            "language": "scala",
            "table": {
              "rows": [
                {
                  "0": "M 7.7 - 2025 Mandalay, Burma (Myanmar) Earthquake",
                  "1": "2910",
                  "2": "7.7",
                  "3": "2025-03-28 06:20:52.709",
                  "4": "2025 Mandalay, Burma (Myanmar) Earthquake"
                },
                {
                  "0": "M 7.8 - Pazarcik earthquake, Kahramanmaras earthquake sequence",
                  "1": "2910",
                  "2": "7.8",
                  "3": "2023-02-06 01:17:34.342",
                  "4": "Pazarcik earthquake, Kahramanmaras earthquake sequence"
                },
                {
                  "0": "M 7.1 - 2025 Southern Tibetan Plateau Earthquake",
                  "1": "2786",
                  "2": "7.1",
                  "3": "2025-01-07 01:05:16.734",
                  "4": "2025 Southern Tibetan Plateau Earthquake"
                },
                {
                  "0": "M 6.8 - Al Haouz, Morocco",
                  "1": "2710",
                  "2": "6.8",
                  "3": "2023-09-08 22:11:01.405",
                  "4": "Al Haouz, Morocco"
                },
                {
                  "0": "M 7.5 - Elbistan earthquake, Kahramanmaras earthquake sequence",
                  "1": "2613",
                  "2": "7.5",
                  "3": "2023-02-06 10:24:48.811",
                  "4": "Elbistan earthquake, Kahramanmaras earthquake sequence"
                }
              ],
              "schema": [
                {
                  "key": "0",
                  "name": "title",
                  "type": "string"
                },
                {
                  "key": "1",
                  "name": "sig",
                  "type": "bigint"
                },
                {
                  "key": "2",
                  "name": "mag",
                  "type": "double"
                },
                {
                  "key": "3",
                  "name": "time",
                  "type": "timestamp"
                },
                {
                  "key": "4",
                  "name": "place_description",
                  "type": "string"
                }
              ],
              "truncated": false
            },
            "wranglerEntryContext": {
              "dataframeType": "pyspark"
            }
          },
          "type": "Synapse.DataFrame"
        },
        "913dc232-8c66-4063-8ce0-216ff6fb65b2": {
          "persist_state": {
            "view": {
              "chartOptions": {
                "aggregationType": "sum",
                "categoryFieldKeys": [
                  "1"
                ],
                "chartType": "scatter",
                "isStacked": false,
                "seriesFieldKeys": [
                  "0"
                ]
              },
              "tableOptions": {},
              "type": "details"
            }
          },
          "sync_state": {
            "isSummary": false,
            "language": "scala",
            "table": {
              "rows": [
                {
                  "0": "0.9",
                  "1": "12"
                },
                {
                  "0": "1.85",
                  "1": "53"
                },
                {
                  "0": "1.59",
                  "1": "39"
                },
                {
                  "0": "2.1",
                  "1": "68"
                },
                {
                  "0": "1.4",
                  "1": "30"
                },
                {
                  "0": "2.8",
                  "1": "122"
                },
                {
                  "0": "2.6",
                  "1": "104"
                },
                {
                  "0": "1.9",
                  "1": "56"
                },
                {
                  "0": "1.0",
                  "1": "15"
                },
                {
                  "0": "3.6",
                  "1": "199"
                },
                {
                  "0": "0.9",
                  "1": "12"
                },
                {
                  "0": "1.8",
                  "1": "50"
                },
                {
                  "0": "3.3",
                  "1": "168"
                },
                {
                  "0": "0.09",
                  "1": "0"
                },
                {
                  "0": "1.4",
                  "1": "30"
                },
                {
                  "0": "3.11",
                  "1": "149"
                },
                {
                  "0": "2.12",
                  "1": "69"
                },
                {
                  "0": "2.08",
                  "1": "67"
                },
                {
                  "0": "1.4",
                  "1": "30"
                },
                {
                  "0": "1.17",
                  "1": "21"
                },
                {
                  "0": "-0.01",
                  "1": "0"
                },
                {
                  "0": "0.56",
                  "1": "5"
                },
                {
                  "0": "1.4",
                  "1": "30"
                },
                {
                  "0": "1.09",
                  "1": "18"
                },
                {
                  "0": "1.2",
                  "1": "22"
                },
                {
                  "0": "1.6",
                  "1": "39"
                },
                {
                  "0": "0.6",
                  "1": "6"
                },
                {
                  "0": "0.1",
                  "1": "0"
                },
                {
                  "0": "1.3",
                  "1": "26"
                },
                {
                  "0": "0.85",
                  "1": "11"
                },
                {
                  "0": "2.29",
                  "1": "81"
                },
                {
                  "0": "1.9",
                  "1": "56"
                },
                {
                  "0": "-0.72",
                  "1": "0"
                },
                {
                  "0": "0.84",
                  "1": "11"
                },
                {
                  "0": "1.53",
                  "1": "36"
                },
                {
                  "0": "1.41",
                  "1": "31"
                },
                {
                  "0": "1.4",
                  "1": "30"
                },
                {
                  "0": "5.0",
                  "1": "385"
                },
                {
                  "0": "5.3",
                  "1": "432"
                },
                {
                  "0": "1.91",
                  "1": "56"
                },
                {
                  "0": "4.3",
                  "1": "284"
                },
                {
                  "0": "0.9",
                  "1": "12"
                },
                {
                  "0": "1.18",
                  "1": "21"
                },
                {
                  "0": "0.75",
                  "1": "9"
                },
                {
                  "0": "1.6",
                  "1": "39"
                },
                {
                  "0": "-0.07",
                  "1": "0"
                },
                {
                  "0": "0.15",
                  "1": "0"
                },
                {
                  "0": "2.6",
                  "1": "104"
                },
                {
                  "0": "0.9",
                  "1": "12"
                },
                {
                  "0": "0.23",
                  "1": "1"
                },
                {
                  "0": "0.36",
                  "1": "2"
                },
                {
                  "0": "2.32",
                  "1": "83"
                },
                {
                  "0": "4.7",
                  "1": "340"
                },
                {
                  "0": "-0.01",
                  "1": "0"
                },
                {
                  "0": "-0.26",
                  "1": "0"
                },
                {
                  "0": "3.1",
                  "1": "148"
                },
                {
                  "0": "1.6",
                  "1": "39"
                },
                {
                  "0": "1.7",
                  "1": "44"
                },
                {
                  "0": "1.9",
                  "1": "56"
                },
                {
                  "0": "1.45",
                  "1": "32"
                },
                {
                  "0": "1.6",
                  "1": "39"
                },
                {
                  "0": "2.9",
                  "1": "129"
                },
                {
                  "0": "1.04",
                  "1": "17"
                },
                {
                  "0": "1.47",
                  "1": "33"
                },
                {
                  "0": "0.32",
                  "1": "2"
                },
                {
                  "0": "1.66",
                  "1": "42"
                },
                {
                  "0": "3.8",
                  "1": "222"
                },
                {
                  "0": "0.6",
                  "1": "6"
                },
                {
                  "0": "4.7",
                  "1": "340"
                },
                {
                  "0": "0.8",
                  "1": "10"
                },
                {
                  "0": "1.2",
                  "1": "22"
                },
                {
                  "0": "2.24",
                  "1": "77"
                },
                {
                  "0": "2.15",
                  "1": "71"
                },
                {
                  "0": "1.45",
                  "1": "32"
                },
                {
                  "0": "0.9",
                  "1": "12"
                },
                {
                  "0": "0.95",
                  "1": "14"
                },
                {
                  "0": "-0.67",
                  "1": "0"
                },
                {
                  "0": "1.0",
                  "1": "15"
                },
                {
                  "0": "2.7",
                  "1": "112"
                },
                {
                  "0": "0.44",
                  "1": "3"
                },
                {
                  "0": "1.2",
                  "1": "22"
                },
                {
                  "0": "2.1",
                  "1": "68"
                },
                {
                  "0": "0.87",
                  "1": "12"
                },
                {
                  "0": "4.6",
                  "1": "326"
                },
                {
                  "0": "4.2",
                  "1": "271"
                },
                {
                  "0": "2.2",
                  "1": "74"
                },
                {
                  "0": "1.6",
                  "1": "39"
                },
                {
                  "0": "0.89",
                  "1": "12"
                },
                {
                  "0": "0.55",
                  "1": "5"
                },
                {
                  "0": "0.19",
                  "1": "1"
                },
                {
                  "0": "1.96",
                  "1": "59"
                },
                {
                  "0": "1.88",
                  "1": "54"
                },
                {
                  "0": "1.4",
                  "1": "30"
                },
                {
                  "0": "2.8",
                  "1": "121"
                },
                {
                  "0": "1.8",
                  "1": "50"
                },
                {
                  "0": "1.75",
                  "1": "47"
                },
                {
                  "0": "0.64",
                  "1": "6"
                },
                {
                  "0": "1.03",
                  "1": "16"
                },
                {
                  "0": "0.69",
                  "1": "7"
                },
                {
                  "0": "1.6",
                  "1": "39"
                },
                {
                  "0": "1.6",
                  "1": "39"
                },
                {
                  "0": "-0.43",
                  "1": "0"
                },
                {
                  "0": "1.2",
                  "1": "22"
                },
                {
                  "0": "1.52",
                  "1": "36"
                },
                {
                  "0": "0.54",
                  "1": "4"
                },
                {
                  "0": "1.6",
                  "1": "39"
                },
                {
                  "0": "4.5",
                  "1": "312"
                },
                {
                  "0": "1.9",
                  "1": "56"
                },
                {
                  "0": "1.62",
                  "1": "40"
                },
                {
                  "0": "4.9",
                  "1": "369"
                },
                {
                  "0": "1.2",
                  "1": "22"
                },
                {
                  "0": "0.93",
                  "1": "13"
                },
                {
                  "0": "1.2",
                  "1": "22"
                },
                {
                  "0": "2.3",
                  "1": "81"
                },
                {
                  "0": "2.08",
                  "1": "67"
                },
                {
                  "0": "1.9",
                  "1": "56"
                },
                {
                  "0": "1.4",
                  "1": "30"
                },
                {
                  "0": "1.4",
                  "1": "30"
                },
                {
                  "0": "-0.74",
                  "1": "0"
                },
                {
                  "0": "-0.75",
                  "1": "0"
                },
                {
                  "0": "-0.44",
                  "1": "0"
                },
                {
                  "0": "1.2",
                  "1": "22"
                },
                {
                  "0": "-0.76",
                  "1": "0"
                },
                {
                  "0": "1.2",
                  "1": "22"
                },
                {
                  "0": "-0.5",
                  "1": "0"
                },
                {
                  "0": "0.88",
                  "1": "12"
                },
                {
                  "0": "-0.68",
                  "1": "0"
                },
                {
                  "0": "-0.55",
                  "1": "0"
                },
                {
                  "0": "1.8",
                  "1": "50"
                },
                {
                  "0": "2.43",
                  "1": "91"
                },
                {
                  "0": "1.0",
                  "1": "15"
                },
                {
                  "0": "-0.61",
                  "1": "0"
                },
                {
                  "0": "1.6",
                  "1": "39"
                },
                {
                  "0": "1.08",
                  "1": "18"
                },
                {
                  "0": "1.55",
                  "1": "37"
                },
                {
                  "0": "1.33",
                  "1": "27"
                },
                {
                  "0": "2.2",
                  "1": "74"
                },
                {
                  "0": "1.4",
                  "1": "30"
                },
                {
                  "0": "3.6",
                  "1": "199"
                },
                {
                  "0": "1.51",
                  "1": "35"
                },
                {
                  "0": "0.9",
                  "1": "12"
                },
                {
                  "0": "1.1",
                  "1": "19"
                },
                {
                  "0": "1.79",
                  "1": "49"
                },
                {
                  "0": "1.61",
                  "1": "40"
                },
                {
                  "0": "1.4",
                  "1": "30"
                },
                {
                  "0": "4.2",
                  "1": "271"
                },
                {
                  "0": "2.06",
                  "1": "65"
                },
                {
                  "0": "1.71",
                  "1": "45"
                },
                {
                  "0": "1.7",
                  "1": "44"
                },
                {
                  "0": "1.1",
                  "1": "19"
                },
                {
                  "0": "1.0",
                  "1": "15"
                },
                {
                  "0": "2.36",
                  "1": "86"
                },
                {
                  "0": "0.93",
                  "1": "13"
                },
                {
                  "0": "1.94000006",
                  "1": "58"
                },
                {
                  "0": "1.52",
                  "1": "36"
                },
                {
                  "0": "2.1",
                  "1": "68"
                },
                {
                  "0": "0.56",
                  "1": "5"
                },
                {
                  "0": "0.37",
                  "1": "2"
                },
                {
                  "0": "1.0",
                  "1": "15"
                },
                {
                  "0": "0.85",
                  "1": "11"
                },
                {
                  "0": "2.06",
                  "1": "65"
                },
                {
                  "0": "1.49",
                  "1": "34"
                },
                {
                  "0": "1.2",
                  "1": "22"
                },
                {
                  "0": "1.5",
                  "1": "35"
                },
                {
                  "0": "2.34",
                  "1": "84"
                },
                {
                  "0": "0.83",
                  "1": "11"
                },
                {
                  "0": "0.9",
                  "1": "12"
                },
                {
                  "0": "1.1",
                  "1": "19"
                },
                {
                  "0": "4.8",
                  "1": "354"
                },
                {
                  "0": "0.49",
                  "1": "4"
                },
                {
                  "0": "0.6",
                  "1": "6"
                },
                {
                  "0": "-0.72",
                  "1": "0"
                },
                {
                  "0": "0.85",
                  "1": "11"
                },
                {
                  "0": "0.57",
                  "1": "5"
                },
                {
                  "0": "-0.57",
                  "1": "0"
                },
                {
                  "0": "0.6",
                  "1": "6"
                },
                {
                  "0": "4.3",
                  "1": "284"
                },
                {
                  "0": "-0.01",
                  "1": "0"
                },
                {
                  "0": "0.7",
                  "1": "8"
                },
                {
                  "0": "0.5",
                  "1": "4"
                },
                {
                  "0": "0.74",
                  "1": "8"
                },
                {
                  "0": "2.5",
                  "1": "96"
                },
                {
                  "0": "0.12",
                  "1": "0"
                },
                {
                  "0": "1.14",
                  "1": "20"
                },
                {
                  "0": "2.9",
                  "1": "129"
                },
                {
                  "0": "1.2",
                  "1": "22"
                },
                {
                  "0": "0.8",
                  "1": "10"
                },
                {
                  "0": "1.45",
                  "1": "32"
                },
                {
                  "0": "1.7",
                  "1": "44"
                },
                {
                  "0": "4.5",
                  "1": "312"
                },
                {
                  "0": "6.2",
                  "1": "675"
                },
                {
                  "0": "1.45",
                  "1": "32"
                },
                {
                  "0": "2.2",
                  "1": "74"
                },
                {
                  "0": "0.75",
                  "1": "9"
                },
                {
                  "0": "0.96",
                  "1": "14"
                },
                {
                  "0": "0.83",
                  "1": "11"
                },
                {
                  "0": "0.83",
                  "1": "11"
                },
                {
                  "0": "0.67",
                  "1": "7"
                },
                {
                  "0": "1.21",
                  "1": "23"
                },
                {
                  "0": "1.9",
                  "1": "56"
                },
                {
                  "0": "2.2",
                  "1": "74"
                },
                {
                  "0": "0.8",
                  "1": "10"
                },
                {
                  "0": "1.26",
                  "1": "24"
                },
                {
                  "0": "2.03999996",
                  "1": "64"
                },
                {
                  "0": "1.31",
                  "1": "26"
                },
                {
                  "0": "1.7",
                  "1": "44"
                },
                {
                  "0": "0.5",
                  "1": "4"
                },
                {
                  "0": "0.56",
                  "1": "5"
                },
                {
                  "0": "0.9",
                  "1": "12"
                },
                {
                  "0": "0.66",
                  "1": "7"
                },
                {
                  "0": "4.3",
                  "1": "284"
                },
                {
                  "0": "0.62",
                  "1": "6"
                },
                {
                  "0": "-0.47",
                  "1": "0"
                },
                {
                  "0": "1.5",
                  "1": "35"
                },
                {
                  "0": "0.67",
                  "1": "7"
                },
                {
                  "0": "2.4",
                  "1": "89"
                },
                {
                  "0": "0.04",
                  "1": "0"
                },
                {
                  "0": "2.05",
                  "1": "65"
                },
                {
                  "0": "0.7",
                  "1": "8"
                },
                {
                  "0": "1.5",
                  "1": "35"
                },
                {
                  "0": "2.0",
                  "1": "62"
                },
                {
                  "0": "2.13",
                  "1": "70"
                },
                {
                  "0": "1.48",
                  "1": "34"
                },
                {
                  "0": "0.7",
                  "1": "8"
                },
                {
                  "0": "0.21",
                  "1": "1"
                },
                {
                  "0": "0.38",
                  "1": "2"
                },
                {
                  "0": "0.6",
                  "1": "6"
                },
                {
                  "0": "0.58",
                  "1": "5"
                },
                {
                  "0": "1.3",
                  "1": "26"
                },
                {
                  "0": "2.2",
                  "1": "74"
                },
                {
                  "0": "-0.02",
                  "1": "0"
                },
                {
                  "0": "1.8",
                  "1": "50"
                },
                {
                  "0": "2.3",
                  "1": "81"
                },
                {
                  "0": "0.65",
                  "1": "6"
                },
                {
                  "0": "1.0",
                  "1": "15"
                },
                {
                  "0": "0.35",
                  "1": "2"
                },
                {
                  "0": "1.4",
                  "1": "30"
                },
                {
                  "0": "3.0",
                  "1": "138"
                },
                {
                  "0": "1.54",
                  "1": "36"
                },
                {
                  "0": "1.42",
                  "1": "31"
                },
                {
                  "0": "4.6",
                  "1": "326"
                },
                {
                  "0": "2.9",
                  "1": "129"
                },
                {
                  "0": "0.7",
                  "1": "8"
                },
                {
                  "0": "2.1",
                  "1": "68"
                },
                {
                  "0": "2.5",
                  "1": "96"
                },
                {
                  "0": "1.63",
                  "1": "41"
                },
                {
                  "0": "0.84",
                  "1": "11"
                },
                {
                  "0": "0.99",
                  "1": "15"
                },
                {
                  "0": "1.3",
                  "1": "26"
                },
                {
                  "0": "1.6",
                  "1": "39"
                },
                {
                  "0": "2.5",
                  "1": "96"
                },
                {
                  "0": "2.03",
                  "1": "63"
                },
                {
                  "0": "2.45",
                  "1": "92"
                },
                {
                  "0": "2.7",
                  "1": "112"
                },
                {
                  "0": "0.92",
                  "1": "13"
                },
                {
                  "0": "3.9",
                  "1": "234"
                },
                {
                  "0": "2.5",
                  "1": "96"
                },
                {
                  "0": "0.58",
                  "1": "5"
                },
                {
                  "0": "-0.2",
                  "1": "0"
                },
                {
                  "0": "2.6",
                  "1": "104"
                },
                {
                  "0": "3.3",
                  "1": "168"
                },
                {
                  "0": "4.8",
                  "1": "354"
                },
                {
                  "0": "3.8",
                  "1": "222"
                },
                {
                  "0": "0.11",
                  "1": "0"
                },
                {
                  "0": "0.03",
                  "1": "0"
                },
                {
                  "0": "2.6",
                  "1": "104"
                },
                {
                  "0": "2.8",
                  "1": "121"
                },
                {
                  "0": "1.65",
                  "1": "45"
                },
                {
                  "0": "0.53",
                  "1": "4"
                },
                {
                  "0": "0.4",
                  "1": "2"
                },
                {
                  "0": "3.0",
                  "1": "138"
                },
                {
                  "0": "1.88",
                  "1": "54"
                },
                {
                  "0": "1.5",
                  "1": "35"
                },
                {
                  "0": "2.1",
                  "1": "68"
                },
                {
                  "0": "2.7",
                  "1": "112"
                },
                {
                  "0": "0.92",
                  "1": "13"
                },
                {
                  "0": "2.66",
                  "1": "109"
                },
                {
                  "0": "1.6",
                  "1": "39"
                },
                {
                  "0": "2.01999998",
                  "1": "63"
                },
                {
                  "0": "0.52",
                  "1": "4"
                },
                {
                  "0": "3.7",
                  "1": "211"
                },
                {
                  "0": "2.8",
                  "1": "121"
                },
                {
                  "0": "1.4",
                  "1": "30"
                },
                {
                  "0": "1.9",
                  "1": "56"
                },
                {
                  "0": "1.0",
                  "1": "15"
                },
                {
                  "0": "2.4",
                  "1": "89"
                },
                {
                  "0": "2.1",
                  "1": "68"
                },
                {
                  "0": "1.6",
                  "1": "39"
                },
                {
                  "0": "3.5",
                  "1": "188"
                },
                {
                  "0": "2.4",
                  "1": "89"
                },
                {
                  "0": "2.9",
                  "1": "129"
                },
                {
                  "0": "2.5",
                  "1": "96"
                },
                {
                  "0": "3.14",
                  "1": "152"
                },
                {
                  "0": "1.0",
                  "1": "15"
                },
                {
                  "0": "0.93",
                  "1": "13"
                },
                {
                  "0": "1.9",
                  "1": "56"
                },
                {
                  "0": "0.18",
                  "1": "0"
                },
                {
                  "0": "0.11",
                  "1": "0"
                },
                {
                  "0": "1.29",
                  "1": "26"
                },
                {
                  "0": "1.8",
                  "1": "50"
                },
                {
                  "0": "0.9",
                  "1": "12"
                },
                {
                  "0": "2.2",
                  "1": "74"
                },
                {
                  "0": "0.34",
                  "1": "2"
                },
                {
                  "0": "2.47",
                  "1": "94"
                },
                {
                  "0": "1.4",
                  "1": "30"
                },
                {
                  "0": "3.1",
                  "1": "148"
                },
                {
                  "0": "1.8",
                  "1": "50"
                },
                {
                  "0": "1.45",
                  "1": "32"
                },
                {
                  "0": "3.9",
                  "1": "234"
                },
                {
                  "0": "0.04",
                  "1": "0"
                },
                {
                  "0": "-0.77",
                  "1": "0"
                },
                {
                  "0": "0.32",
                  "1": "2"
                },
                {
                  "0": "1.32",
                  "1": "27"
                },
                {
                  "0": "1.6",
                  "1": "39"
                },
                {
                  "0": "2.2",
                  "1": "74"
                },
                {
                  "0": "1.94",
                  "1": "58"
                },
                {
                  "0": "1.0",
                  "1": "15"
                },
                {
                  "0": "-0.25",
                  "1": "0"
                },
                {
                  "0": "4.3",
                  "1": "284"
                },
                {
                  "0": "1.77",
                  "1": "48"
                },
                {
                  "0": "0.12",
                  "1": "0"
                },
                {
                  "0": "1.76",
                  "1": "48"
                },
                {
                  "0": "2.5",
                  "1": "96"
                },
                {
                  "0": "2.2",
                  "1": "74"
                },
                {
                  "0": "2.9",
                  "1": "129"
                },
                {
                  "0": "-0.35",
                  "1": "0"
                },
                {
                  "0": "4.7",
                  "1": "340"
                },
                {
                  "0": "1.82000005",
                  "1": "51"
                },
                {
                  "0": "2.29",
                  "1": "81"
                },
                {
                  "0": "1.62",
                  "1": "40"
                },
                {
                  "0": "1.3",
                  "1": "26"
                },
                {
                  "0": "-0.02",
                  "1": "0"
                },
                {
                  "0": "0.81",
                  "1": "10"
                },
                {
                  "0": "0.9",
                  "1": "12"
                },
                {
                  "0": "2.6",
                  "1": "104"
                },
                {
                  "0": "1.49",
                  "1": "34"
                },
                {
                  "0": "2.8",
                  "1": "121"
                },
                {
                  "0": "1.77",
                  "1": "48"
                },
                {
                  "0": "2.2",
                  "1": "74"
                },
                {
                  "0": "2.4",
                  "1": "89"
                },
                {
                  "0": "1.1",
                  "1": "19"
                },
                {
                  "0": "2.1",
                  "1": "68"
                },
                {
                  "0": "2.8",
                  "1": "121"
                },
                {
                  "0": "0.8",
                  "1": "10"
                },
                {
                  "0": "2.5",
                  "1": "96"
                },
                {
                  "0": "0.16",
                  "1": "0"
                },
                {
                  "0": "0.45",
                  "1": "3"
                },
                {
                  "0": "0.83",
                  "1": "11"
                },
                {
                  "0": "0.84",
                  "1": "11"
                },
                {
                  "0": "1.9",
                  "1": "56"
                },
                {
                  "0": "1.0",
                  "1": "15"
                },
                {
                  "0": "2.7",
                  "1": "112"
                },
                {
                  "0": "1.6",
                  "1": "39"
                },
                {
                  "0": "2.0",
                  "1": "62"
                },
                {
                  "0": "0.8",
                  "1": "10"
                },
                {
                  "0": "0.9",
                  "1": "12"
                },
                {
                  "0": "-0.1",
                  "1": "0"
                },
                {
                  "0": "1.4",
                  "1": "30"
                },
                {
                  "0": "0.7",
                  "1": "8"
                },
                {
                  "0": "1.1",
                  "1": "19"
                },
                {
                  "0": "2.66",
                  "1": "110"
                },
                {
                  "0": "1.4",
                  "1": "30"
                },
                {
                  "0": "4.3",
                  "1": "284"
                },
                {
                  "0": "2.2",
                  "1": "74"
                },
                {
                  "0": "2.3",
                  "1": "81"
                },
                {
                  "0": "0.8",
                  "1": "10"
                },
                {
                  "0": "1.9",
                  "1": "56"
                },
                {
                  "0": "4.3",
                  "1": "284"
                },
                {
                  "0": "2.5",
                  "1": "96"
                },
                {
                  "0": "1.3",
                  "1": "26"
                },
                {
                  "0": "1.3",
                  "1": "26"
                },
                {
                  "0": "1.8",
                  "1": "50"
                },
                {
                  "0": "2.31",
                  "1": "82"
                },
                {
                  "0": "2.1",
                  "1": "68"
                },
                {
                  "0": "-0.08",
                  "1": "0"
                },
                {
                  "0": "2.5",
                  "1": "96"
                },
                {
                  "0": "2.2",
                  "1": "74"
                },
                {
                  "0": "2.26",
                  "1": "79"
                },
                {
                  "0": "1.61",
                  "1": "40"
                },
                {
                  "0": "1.1",
                  "1": "19"
                },
                {
                  "0": "1.65",
                  "1": "42"
                },
                {
                  "0": "0.4",
                  "1": "2"
                },
                {
                  "0": "0.1",
                  "1": "0"
                },
                {
                  "0": "2.6",
                  "1": "104"
                },
                {
                  "0": "2.2",
                  "1": "74"
                },
                {
                  "0": "0.63",
                  "1": "6"
                },
                {
                  "0": "0.58",
                  "1": "5"
                },
                {
                  "0": "0.01",
                  "1": "0"
                },
                {
                  "0": "2.1",
                  "1": "68"
                },
                {
                  "0": "2.2",
                  "1": "74"
                },
                {
                  "0": "1.1",
                  "1": "19"
                },
                {
                  "0": "0.7",
                  "1": "8"
                },
                {
                  "0": "0.85",
                  "1": "11"
                },
                {
                  "0": "1.65",
                  "1": "42"
                },
                {
                  "0": "0.8",
                  "1": "10"
                },
                {
                  "0": "-0.6",
                  "1": "0"
                },
                {
                  "0": "1.92",
                  "1": "57"
                },
                {
                  "0": "3.0",
                  "1": "138"
                },
                {
                  "0": "2.8",
                  "1": "121"
                },
                {
                  "0": "-0.02",
                  "1": "0"
                },
                {
                  "0": "1.51",
                  "1": "35"
                },
                {
                  "0": "1.7",
                  "1": "44"
                },
                {
                  "0": "2.7",
                  "1": "112"
                },
                {
                  "0": "1.61",
                  "1": "40"
                },
                {
                  "0": "1.6",
                  "1": "39"
                },
                {
                  "0": "2.3",
                  "1": "81"
                },
                {
                  "0": "2.9",
                  "1": "129"
                },
                {
                  "0": "1.8",
                  "1": "50"
                },
                {
                  "0": "2.4",
                  "1": "89"
                },
                {
                  "0": "4.3",
                  "1": "284"
                },
                {
                  "0": "2.4",
                  "1": "89"
                },
                {
                  "0": "0.76",
                  "1": "9"
                },
                {
                  "0": "1.0",
                  "1": "15"
                },
                {
                  "0": "1.2",
                  "1": "22"
                },
                {
                  "0": "0.51",
                  "1": "4"
                },
                {
                  "0": "3.0",
                  "1": "138"
                },
                {
                  "0": "2.2",
                  "1": "74"
                },
                {
                  "0": "1.0",
                  "1": "15"
                },
                {
                  "0": "2.4",
                  "1": "89"
                },
                {
                  "0": "1.2",
                  "1": "22"
                },
                {
                  "0": "4.2",
                  "1": "271"
                },
                {
                  "0": "1.5",
                  "1": "35"
                },
                {
                  "0": "-0.42",
                  "1": "0"
                },
                {
                  "0": "1.4",
                  "1": "30"
                },
                {
                  "0": "1.6",
                  "1": "39"
                },
                {
                  "0": "2.2",
                  "1": "74"
                },
                {
                  "0": "4.2",
                  "1": "271"
                },
                {
                  "0": "1.5",
                  "1": "35"
                },
                {
                  "0": "2.0",
                  "1": "62"
                },
                {
                  "0": "1.77",
                  "1": "48"
                },
                {
                  "0": "4.2",
                  "1": "271"
                },
                {
                  "0": "0.12",
                  "1": "0"
                },
                {
                  "0": "4.0",
                  "1": "246"
                },
                {
                  "0": "3.7",
                  "1": "211"
                },
                {
                  "0": "3.2",
                  "1": "158"
                },
                {
                  "0": "1.0",
                  "1": "15"
                },
                {
                  "0": "2.3",
                  "1": "81"
                },
                {
                  "0": "2.0",
                  "1": "62"
                },
                {
                  "0": "0.15",
                  "1": "0"
                },
                {
                  "0": "2.7",
                  "1": "112"
                },
                {
                  "0": "1.1",
                  "1": "19"
                },
                {
                  "0": "2.5",
                  "1": "96"
                },
                {
                  "0": "2.24",
                  "1": "77"
                },
                {
                  "0": "0.3",
                  "1": "1"
                },
                {
                  "0": "1.9",
                  "1": "56"
                },
                {
                  "0": "-0.39",
                  "1": "0"
                },
                {
                  "0": "2.5",
                  "1": "96"
                },
                {
                  "0": "0.69",
                  "1": "7"
                },
                {
                  "0": "0.12",
                  "1": "0"
                },
                {
                  "0": "1.3",
                  "1": "26"
                },
                {
                  "0": "2.5",
                  "1": "96"
                },
                {
                  "0": "3.0",
                  "1": "138"
                },
                {
                  "0": "1.2",
                  "1": "22"
                },
                {
                  "0": "1.75",
                  "1": "47"
                },
                {
                  "0": "2.1",
                  "1": "68"
                },
                {
                  "0": "1.56",
                  "1": "37"
                },
                {
                  "0": "2.3",
                  "1": "81"
                },
                {
                  "0": "4.3",
                  "1": "284"
                },
                {
                  "0": "0.73",
                  "1": "8"
                },
                {
                  "0": "2.5",
                  "1": "96"
                },
                {
                  "0": "1.7",
                  "1": "44"
                },
                {
                  "0": "0.7",
                  "1": "8"
                },
                {
                  "0": "4.6",
                  "1": "326"
                },
                {
                  "0": "-0.06",
                  "1": "0"
                },
                {
                  "0": "1.3",
                  "1": "26"
                },
                {
                  "0": "1.5",
                  "1": "35"
                },
                {
                  "0": "1.2",
                  "1": "22"
                },
                {
                  "0": "1.70000005",
                  "1": "44"
                },
                {
                  "0": "2.16",
                  "1": "72"
                },
                {
                  "0": "-0.2",
                  "1": "0"
                },
                {
                  "0": "0.91",
                  "1": "13"
                },
                {
                  "0": "0.6",
                  "1": "6"
                },
                {
                  "0": "3.18",
                  "1": "156"
                },
                {
                  "0": "3.2",
                  "1": "158"
                },
                {
                  "0": "3.1",
                  "1": "148"
                },
                {
                  "0": "0.9",
                  "1": "12"
                },
                {
                  "0": "1.4",
                  "1": "30"
                },
                {
                  "0": "0.85",
                  "1": "11"
                },
                {
                  "0": "0.98",
                  "1": "15"
                },
                {
                  "0": "2.41",
                  "1": "89"
                },
                {
                  "0": "-0.08",
                  "1": "0"
                },
                {
                  "0": "0.8",
                  "1": "10"
                },
                {
                  "0": "0.43",
                  "1": "3"
                },
                {
                  "0": "1.4",
                  "1": "30"
                },
                {
                  "0": "0.72",
                  "1": "8"
                },
                {
                  "0": "2.0",
                  "1": "62"
                },
                {
                  "0": "0.87",
                  "1": "12"
                },
                {
                  "0": "0.8",
                  "1": "10"
                },
                {
                  "0": "0.1",
                  "1": "0"
                },
                {
                  "0": "1.13",
                  "1": "20"
                },
                {
                  "0": "3.5",
                  "1": "188"
                },
                {
                  "0": "4.0",
                  "1": "246"
                },
                {
                  "0": "4.1",
                  "1": "259"
                },
                {
                  "0": "0.49",
                  "1": "4"
                },
                {
                  "0": "0.9",
                  "1": "12"
                },
                {
                  "0": "0.85",
                  "1": "11"
                },
                {
                  "0": "1.38",
                  "1": "29"
                },
                {
                  "0": "1.15",
                  "1": "20"
                },
                {
                  "0": "0.4",
                  "1": "2"
                },
                {
                  "0": "2.1",
                  "1": "68"
                },
                {
                  "0": "1.2",
                  "1": "22"
                },
                {
                  "0": "2.1",
                  "1": "68"
                },
                {
                  "0": "2.8",
                  "1": "121"
                },
                {
                  "0": "1.8",
                  "1": "50"
                },
                {
                  "0": "1.98",
                  "1": "61"
                },
                {
                  "0": "1.76",
                  "1": "48"
                },
                {
                  "0": "4.4",
                  "1": "298"
                },
                {
                  "0": "1.02",
                  "1": "16"
                },
                {
                  "0": "0.52",
                  "1": "4"
                },
                {
                  "0": "0.96",
                  "1": "14"
                },
                {
                  "0": "0.8",
                  "1": "10"
                },
                {
                  "0": "1.54",
                  "1": "36"
                },
                {
                  "0": "0.97",
                  "1": "14"
                },
                {
                  "0": "2.3",
                  "1": "81"
                },
                {
                  "0": "1.8",
                  "1": "50"
                },
                {
                  "0": "2.5",
                  "1": "96"
                },
                {
                  "0": "1.03",
                  "1": "16"
                },
                {
                  "0": "1.0",
                  "1": "15"
                },
                {
                  "0": "1.78999996",
                  "1": "49"
                },
                {
                  "0": "1.85000002",
                  "1": "53"
                },
                {
                  "0": "0.94",
                  "1": "14"
                },
                {
                  "0": "1.7",
                  "1": "44"
                },
                {
                  "0": "1.0",
                  "1": "15"
                },
                {
                  "0": "0.5",
                  "1": "4"
                },
                {
                  "0": "1.9",
                  "1": "56"
                },
                {
                  "0": "3.7",
                  "1": "211"
                },
                {
                  "0": "1.44",
                  "1": "32"
                },
                {
                  "0": "0.89",
                  "1": "12"
                },
                {
                  "0": "1.0",
                  "1": "15"
                },
                {
                  "0": "-0.92",
                  "1": "0"
                },
                {
                  "0": "2.3",
                  "1": "81"
                },
                {
                  "0": "1.2",
                  "1": "22"
                },
                {
                  "0": "-0.31",
                  "1": "0"
                },
                {
                  "0": "0.12",
                  "1": "0"
                },
                {
                  "0": "-0.48",
                  "1": "0"
                },
                {
                  "0": "2.4",
                  "1": "89"
                },
                {
                  "0": "2.5",
                  "1": "96"
                },
                {
                  "0": "1.1",
                  "1": "19"
                },
                {
                  "0": "1.3",
                  "1": "26"
                },
                {
                  "0": "0.27",
                  "1": "1"
                },
                {
                  "0": "-0.24",
                  "1": "0"
                },
                {
                  "0": "0.0",
                  "1": "0"
                },
                {
                  "0": "2.0",
                  "1": "62"
                },
                {
                  "0": "2.4",
                  "1": "89"
                },
                {
                  "0": "1.8",
                  "1": "50"
                },
                {
                  "0": "-0.5",
                  "1": "0"
                },
                {
                  "0": "-0.15",
                  "1": "0"
                },
                {
                  "0": "-0.07",
                  "1": "0"
                },
                {
                  "0": "2.4",
                  "1": "89"
                },
                {
                  "0": "2.5",
                  "1": "96"
                },
                {
                  "0": "1.41",
                  "1": "31"
                },
                {
                  "0": "1.0",
                  "1": "15"
                },
                {
                  "0": "0.7",
                  "1": "8"
                },
                {
                  "0": "1.83000004",
                  "1": "52"
                },
                {
                  "0": "1.6",
                  "1": "39"
                },
                {
                  "0": "1.4",
                  "1": "30"
                },
                {
                  "0": "-0.02",
                  "1": "0"
                },
                {
                  "0": "1.14",
                  "1": "20"
                },
                {
                  "0": "2.2",
                  "1": "74"
                },
                {
                  "0": "0.87",
                  "1": "12"
                },
                {
                  "0": "3.6",
                  "1": "199"
                },
                {
                  "0": "1.47",
                  "1": "33"
                },
                {
                  "0": "0.3",
                  "1": "1"
                },
                {
                  "0": "2.23",
                  "1": "77"
                },
                {
                  "0": "1.03",
                  "1": "16"
                },
                {
                  "0": "-0.45",
                  "1": "0"
                },
                {
                  "0": "3.8",
                  "1": "222"
                },
                {
                  "0": "4.4",
                  "1": "298"
                },
                {
                  "0": "2.2",
                  "1": "74"
                },
                {
                  "0": "4.2",
                  "1": "271"
                },
                {
                  "0": "2.3",
                  "1": "81"
                },
                {
                  "0": "1.43",
                  "1": "31"
                },
                {
                  "0": "2.8",
                  "1": "121"
                },
                {
                  "0": "1.04",
                  "1": "17"
                },
                {
                  "0": "0.8",
                  "1": "10"
                },
                {
                  "0": "2.4",
                  "1": "89"
                },
                {
                  "0": "0.8",
                  "1": "10"
                },
                {
                  "0": "2.38",
                  "1": "87"
                },
                {
                  "0": "2.3",
                  "1": "81"
                },
                {
                  "0": "2.4",
                  "1": "89"
                },
                {
                  "0": "2.5",
                  "1": "96"
                },
                {
                  "0": "1.3",
                  "1": "26"
                },
                {
                  "0": "1.25",
                  "1": "24"
                },
                {
                  "0": "1.61",
                  "1": "40"
                },
                {
                  "0": "-0.12",
                  "1": "0"
                },
                {
                  "0": "2.14",
                  "1": "70"
                },
                {
                  "0": "2.8",
                  "1": "121"
                },
                {
                  "0": "1.49",
                  "1": "34"
                },
                {
                  "0": "0.33",
                  "1": "2"
                },
                {
                  "0": "1.59",
                  "1": "39"
                },
                {
                  "0": "2.3",
                  "1": "81"
                },
                {
                  "0": "1.1",
                  "1": "19"
                },
                {
                  "0": "0.64",
                  "1": "6"
                },
                {
                  "0": "1.61",
                  "1": "40"
                },
                {
                  "0": "0.8",
                  "1": "10"
                },
                {
                  "0": "1.24",
                  "1": "24"
                },
                {
                  "0": "2.28",
                  "1": "80"
                },
                {
                  "0": "0.5",
                  "1": "4"
                },
                {
                  "0": "0.7",
                  "1": "8"
                },
                {
                  "0": "4.2",
                  "1": "272"
                },
                {
                  "0": "2.4",
                  "1": "89"
                },
                {
                  "0": "4.2",
                  "1": "319"
                },
                {
                  "0": "2.93",
                  "1": "132"
                },
                {
                  "0": "2.17",
                  "1": "73"
                },
                {
                  "0": "2.5",
                  "1": "96"
                },
                {
                  "0": "4.7",
                  "1": "342"
                },
                {
                  "0": "0.75",
                  "1": "9"
                },
                {
                  "0": "2.33",
                  "1": "84"
                },
                {
                  "0": "2.1",
                  "1": "68"
                },
                {
                  "0": "2.7",
                  "1": "112"
                },
                {
                  "0": "-0.01",
                  "1": "0"
                },
                {
                  "0": "3.0",
                  "1": "138"
                },
                {
                  "0": "1.31",
                  "1": "26"
                },
                {
                  "0": "4.2",
                  "1": "271"
                },
                {
                  "0": "0.93",
                  "1": "13"
                },
                {
                  "0": "-0.13",
                  "1": "0"
                },
                {
                  "0": "1.9",
                  "1": "56"
                },
                {
                  "0": "0.42",
                  "1": "3"
                },
                {
                  "0": "2.0",
                  "1": "62"
                },
                {
                  "0": "1.52",
                  "1": "36"
                },
                {
                  "0": "0.8",
                  "1": "10"
                },
                {
                  "0": "2.3",
                  "1": "81"
                },
                {
                  "0": "2.8",
                  "1": "121"
                },
                {
                  "0": "3.2",
                  "1": "158"
                },
                {
                  "0": "-0.44",
                  "1": "0"
                },
                {
                  "0": "0.92",
                  "1": "13"
                },
                {
                  "0": "4.5",
                  "1": "312"
                },
                {
                  "0": "0.43",
                  "1": "3"
                },
                {
                  "0": "0.22",
                  "1": "1"
                },
                {
                  "0": "2.6",
                  "1": "104"
                },
                {
                  "0": "1.16",
                  "1": "21"
                },
                {
                  "0": "-0.6",
                  "1": "0"
                },
                {
                  "0": "0.48",
                  "1": "4"
                },
                {
                  "0": "-0.34",
                  "1": "0"
                },
                {
                  "0": "5.5",
                  "1": "465"
                },
                {
                  "0": "2.5",
                  "1": "96"
                },
                {
                  "0": "0.09",
                  "1": "0"
                },
                {
                  "0": "1.71",
                  "1": "45"
                },
                {
                  "0": "0.18",
                  "1": "0"
                },
                {
                  "0": "0.71",
                  "1": "8"
                },
                {
                  "0": "2.09",
                  "1": "67"
                },
                {
                  "0": "-0.02",
                  "1": "0"
                },
                {
                  "0": "1.89",
                  "1": "55"
                },
                {
                  "0": "3.2",
                  "1": "158"
                },
                {
                  "0": "2.0",
                  "1": "62"
                },
                {
                  "0": "1.82",
                  "1": "51"
                },
                {
                  "0": "2.69",
                  "1": "112"
                },
                {
                  "0": "3.0",
                  "1": "138"
                },
                {
                  "0": "2.7",
                  "1": "112"
                },
                {
                  "0": "2.8",
                  "1": "121"
                },
                {
                  "0": "0.56",
                  "1": "5"
                },
                {
                  "0": "4.4",
                  "1": "298"
                },
                {
                  "0": "1.7",
                  "1": "44"
                },
                {
                  "0": "1.6",
                  "1": "39"
                },
                {
                  "0": "4.6",
                  "1": "326"
                },
                {
                  "0": "0.8",
                  "1": "10"
                },
                {
                  "0": "0.35",
                  "1": "2"
                },
                {
                  "0": "0.84",
                  "1": "11"
                },
                {
                  "0": "-0.07",
                  "1": "0"
                },
                {
                  "0": "1.74",
                  "1": "47"
                },
                {
                  "0": "1.85",
                  "1": "53"
                },
                {
                  "0": "2.54",
                  "1": "101"
                },
                {
                  "0": "-0.57",
                  "1": "0"
                },
                {
                  "0": "-0.21",
                  "1": "0"
                },
                {
                  "0": "1.8",
                  "1": "50"
                },
                {
                  "0": "1.9",
                  "1": "56"
                },
                {
                  "0": "-0.11",
                  "1": "0"
                },
                {
                  "0": "-0.31",
                  "1": "0"
                },
                {
                  "0": "-0.34",
                  "1": "0"
                },
                {
                  "0": "0.44",
                  "1": "3"
                },
                {
                  "0": "1.0",
                  "1": "15"
                },
                {
                  "0": "0.05",
                  "1": "0"
                },
                {
                  "0": "-0.67",
                  "1": "0"
                },
                {
                  "0": "0.14",
                  "1": "0"
                },
                {
                  "0": "-0.87",
                  "1": "0"
                },
                {
                  "0": "0.28",
                  "1": "1"
                },
                {
                  "0": "-0.71",
                  "1": "0"
                },
                {
                  "0": "3.6",
                  "1": "199"
                },
                {
                  "0": "-0.3",
                  "1": "0"
                },
                {
                  "0": "1.9",
                  "1": "56"
                },
                {
                  "0": "-0.31",
                  "1": "0"
                },
                {
                  "0": "-0.69",
                  "1": "0"
                },
                {
                  "0": "-0.36",
                  "1": "0"
                },
                {
                  "0": "0.95",
                  "1": "14"
                },
                {
                  "0": "0.91",
                  "1": "13"
                },
                {
                  "0": "-0.41",
                  "1": "0"
                },
                {
                  "0": "1.5",
                  "1": "35"
                },
                {
                  "0": "0.34",
                  "1": "2"
                },
                {
                  "0": "0.1",
                  "1": "0"
                },
                {
                  "0": "0.5",
                  "1": "4"
                },
                {
                  "0": "-0.9",
                  "1": "0"
                },
                {
                  "0": "-0.48",
                  "1": "0"
                },
                {
                  "0": "-0.5",
                  "1": "0"
                },
                {
                  "0": "-0.32",
                  "1": "0"
                },
                {
                  "0": "4.6",
                  "1": "326"
                },
                {
                  "0": "0.3",
                  "1": "1"
                },
                {
                  "0": "-0.81",
                  "1": "0"
                },
                {
                  "0": "0.85",
                  "1": "11"
                },
                {
                  "0": "0.13",
                  "1": "0"
                },
                {
                  "0": "2.22",
                  "1": "76"
                },
                {
                  "0": "1.1",
                  "1": "19"
                },
                {
                  "0": "1.4",
                  "1": "30"
                },
                {
                  "0": "2.2",
                  "1": "74"
                },
                {
                  "0": "2.3",
                  "1": "81"
                },
                {
                  "0": "1.1",
                  "1": "19"
                },
                {
                  "0": "2.4",
                  "1": "89"
                },
                {
                  "0": "2.7",
                  "1": "112"
                },
                {
                  "0": "0.99",
                  "1": "15"
                },
                {
                  "0": "2.68",
                  "1": "110"
                },
                {
                  "0": "1.2",
                  "1": "22"
                },
                {
                  "0": "1.7",
                  "1": "44"
                },
                {
                  "0": "1.0",
                  "1": "15"
                },
                {
                  "0": "0.75",
                  "1": "9"
                },
                {
                  "0": "0.37",
                  "1": "2"
                },
                {
                  "0": "0.34",
                  "1": "2"
                },
                {
                  "0": "0.38",
                  "1": "2"
                },
                {
                  "0": "2.5",
                  "1": "96"
                },
                {
                  "0": "0.8",
                  "1": "10"
                },
                {
                  "0": "0.02",
                  "1": "0"
                },
                {
                  "0": "2.7",
                  "1": "112"
                },
                {
                  "0": "1.4",
                  "1": "30"
                },
                {
                  "0": "3.1",
                  "1": "148"
                },
                {
                  "0": "0.19",
                  "1": "1"
                },
                {
                  "0": "1.3",
                  "1": "26"
                },
                {
                  "0": "1.3",
                  "1": "26"
                },
                {
                  "0": "2.1",
                  "1": "68"
                },
                {
                  "0": "2.3",
                  "1": "81"
                },
                {
                  "0": "3.2",
                  "1": "158"
                },
                {
                  "0": "0.96",
                  "1": "14"
                },
                {
                  "0": "1.57",
                  "1": "38"
                },
                {
                  "0": "4.2",
                  "1": "271"
                },
                {
                  "0": "1.2",
                  "1": "22"
                },
                {
                  "0": "2.4",
                  "1": "89"
                },
                {
                  "0": "2.2",
                  "1": "74"
                },
                {
                  "0": "-0.22",
                  "1": "0"
                },
                {
                  "0": "2.8",
                  "1": "121"
                },
                {
                  "0": "2.7",
                  "1": "112"
                },
                {
                  "0": "2.0",
                  "1": "62"
                },
                {
                  "0": "2.0",
                  "1": "62"
                },
                {
                  "0": "2.9",
                  "1": "129"
                },
                {
                  "0": "0.2",
                  "1": "1"
                },
                {
                  "0": "4.1",
                  "1": "259"
                },
                {
                  "0": "1.2",
                  "1": "22"
                },
                {
                  "0": "2.8",
                  "1": "121"
                },
                {
                  "0": "2.9",
                  "1": "129"
                },
                {
                  "0": "1.0",
                  "1": "15"
                },
                {
                  "0": "2.21",
                  "1": "75"
                },
                {
                  "0": "1.9",
                  "1": "56"
                },
                {
                  "0": "1.7",
                  "1": "44"
                },
                {
                  "0": "0.9",
                  "1": "12"
                },
                {
                  "0": "1.3",
                  "1": "26"
                },
                {
                  "0": "1.79",
                  "1": "49"
                },
                {
                  "0": "2.6",
                  "1": "104"
                },
                {
                  "0": "1.0",
                  "1": "15"
                },
                {
                  "0": "1.3",
                  "1": "26"
                },
                {
                  "0": "0.85",
                  "1": "11"
                },
                {
                  "0": "3.1",
                  "1": "148"
                },
                {
                  "0": "2.7",
                  "1": "112"
                },
                {
                  "0": "4.2",
                  "1": "271"
                },
                {
                  "0": "1.92",
                  "1": "57"
                },
                {
                  "0": "2.6",
                  "1": "104"
                },
                {
                  "0": "0.9",
                  "1": "12"
                },
                {
                  "0": "2.7",
                  "1": "112"
                },
                {
                  "0": "1.85000002",
                  "1": "53"
                },
                {
                  "0": "-0.09",
                  "1": "0"
                },
                {
                  "0": "0.47",
                  "1": "3"
                },
                {
                  "0": "0.9",
                  "1": "12"
                },
                {
                  "0": "1.38",
                  "1": "29"
                },
                {
                  "0": "1.4",
                  "1": "30"
                },
                {
                  "0": "1.5",
                  "1": "35"
                },
                {
                  "0": "0.24",
                  "1": "1"
                },
                {
                  "0": "4.5",
                  "1": "312"
                },
                {
                  "0": "1.8",
                  "1": "50"
                },
                {
                  "0": "4.0",
                  "1": "246"
                },
                {
                  "0": "1.2",
                  "1": "22"
                },
                {
                  "0": "1.9",
                  "1": "56"
                },
                {
                  "0": "1.08",
                  "1": "18"
                },
                {
                  "0": "0.84",
                  "1": "11"
                },
                {
                  "0": "2.3",
                  "1": "81"
                },
                {
                  "0": "1.45",
                  "1": "32"
                },
                {
                  "0": "0.9",
                  "1": "12"
                },
                {
                  "0": "1.12",
                  "1": "19"
                },
                {
                  "0": "1.6",
                  "1": "39"
                },
                {
                  "0": "0.86",
                  "1": "11"
                },
                {
                  "0": "1.7",
                  "1": "44"
                },
                {
                  "0": "5.0",
                  "1": "385"
                },
                {
                  "0": "0.9",
                  "1": "12"
                },
                {
                  "0": "4.9",
                  "1": "372"
                },
                {
                  "0": "2.47",
                  "1": "94"
                },
                {
                  "0": "-0.51",
                  "1": "0"
                },
                {
                  "0": "1.8",
                  "1": "50"
                },
                {
                  "0": "3.3",
                  "1": "168"
                },
                {
                  "0": "3.9",
                  "1": "234"
                },
                {
                  "0": "4.7",
                  "1": "340"
                },
                {
                  "0": "-0.18",
                  "1": "0"
                },
                {
                  "0": "1.62",
                  "1": "40"
                },
                {
                  "0": "1.8",
                  "1": "50"
                },
                {
                  "0": "-0.19",
                  "1": "0"
                },
                {
                  "0": "2.7",
                  "1": "112"
                },
                {
                  "0": "1.2",
                  "1": "22"
                },
                {
                  "0": "2.07999992",
                  "1": "67"
                },
                {
                  "0": "4.8",
                  "1": "354"
                },
                {
                  "0": "1.1",
                  "1": "19"
                },
                {
                  "0": "1.04",
                  "1": "17"
                },
                {
                  "0": "0.39",
                  "1": "2"
                },
                {
                  "0": "2.8",
                  "1": "121"
                },
                {
                  "0": "1.62",
                  "1": "40"
                },
                {
                  "0": "4.8",
                  "1": "354"
                },
                {
                  "0": "1.1",
                  "1": "19"
                },
                {
                  "0": "-0.39",
                  "1": "0"
                },
                {
                  "0": "0.9",
                  "1": "12"
                },
                {
                  "0": "0.43",
                  "1": "3"
                },
                {
                  "0": "0.49",
                  "1": "4"
                },
                {
                  "0": "4.2",
                  "1": "273"
                },
                {
                  "0": "3.0",
                  "1": "138"
                },
                {
                  "0": "1.18",
                  "1": "21"
                },
                {
                  "0": "0.38",
                  "1": "2"
                },
                {
                  "0": "0.47",
                  "1": "3"
                },
                {
                  "0": "1.73",
                  "1": "46"
                },
                {
                  "0": "-0.04",
                  "1": "0"
                },
                {
                  "0": "2.8",
                  "1": "121"
                },
                {
                  "0": "1.4",
                  "1": "30"
                },
                {
                  "0": "1.52",
                  "1": "36"
                },
                {
                  "0": "2.3",
                  "1": "81"
                },
                {
                  "0": "1.67",
                  "1": "43"
                },
                {
                  "0": "3.06",
                  "1": "144"
                },
                {
                  "0": "1.67",
                  "1": "43"
                },
                {
                  "0": "-0.58",
                  "1": "0"
                },
                {
                  "0": "4.4",
                  "1": "298"
                },
                {
                  "0": "1.34",
                  "1": "28"
                },
                {
                  "0": "0.11",
                  "1": "0"
                },
                {
                  "0": "0.04",
                  "1": "0"
                },
                {
                  "0": "2.35",
                  "1": "85"
                },
                {
                  "0": "4.4",
                  "1": "298"
                },
                {
                  "0": "0.8",
                  "1": "10"
                },
                {
                  "0": "0.98",
                  "1": "15"
                },
                {
                  "0": "1.13",
                  "1": "20"
                },
                {
                  "0": "3.6",
                  "1": "199"
                },
                {
                  "0": "0.62",
                  "1": "6"
                },
                {
                  "0": "0.74",
                  "1": "8"
                },
                {
                  "0": "1.6",
                  "1": "39"
                },
                {
                  "0": "2.9",
                  "1": "130"
                },
                {
                  "0": "3.4",
                  "1": "178"
                },
                {
                  "0": "0.86",
                  "1": "11"
                },
                {
                  "0": "3.2",
                  "1": "158"
                },
                {
                  "0": "3.3",
                  "1": "168"
                },
                {
                  "0": "1.79",
                  "1": "49"
                },
                {
                  "0": "4.7",
                  "1": "340"
                },
                {
                  "0": "0.67",
                  "1": "7"
                },
                {
                  "0": "2.5",
                  "1": "96"
                },
                {
                  "0": "5.1",
                  "1": "400"
                },
                {
                  "0": "1.96",
                  "1": "59"
                },
                {
                  "0": "0.88",
                  "1": "12"
                },
                {
                  "0": "2.5",
                  "1": "96"
                },
                {
                  "0": "0.8",
                  "1": "10"
                },
                {
                  "0": "0.94",
                  "1": "14"
                },
                {
                  "0": "2.0",
                  "1": "62"
                },
                {
                  "0": "2.55",
                  "1": "100"
                },
                {
                  "0": "1.4",
                  "1": "30"
                },
                {
                  "0": "1.68",
                  "1": "43"
                },
                {
                  "0": "0.95",
                  "1": "14"
                },
                {
                  "0": "3.1",
                  "1": "148"
                },
                {
                  "0": "1.34",
                  "1": "28"
                },
                {
                  "0": "5.4",
                  "1": "449"
                },
                {
                  "0": "-0.54",
                  "1": "0"
                },
                {
                  "0": "1.1",
                  "1": "19"
                },
                {
                  "0": "5.0",
                  "1": "385"
                },
                {
                  "0": "-0.37",
                  "1": "0"
                },
                {
                  "0": "1.84000003",
                  "1": "52"
                },
                {
                  "0": "-0.43",
                  "1": "0"
                },
                {
                  "0": "4.2",
                  "1": "271"
                },
                {
                  "0": "2.4",
                  "1": "89"
                },
                {
                  "0": "3.1",
                  "1": "148"
                },
                {
                  "0": "3.1",
                  "1": "148"
                },
                {
                  "0": "1.37",
                  "1": "29"
                },
                {
                  "0": "3.5",
                  "1": "188"
                },
                {
                  "0": "2.5",
                  "1": "96"
                },
                {
                  "0": "4.2",
                  "1": "271"
                },
                {
                  "0": "1.83",
                  "1": "52"
                },
                {
                  "0": "1.86",
                  "1": "53"
                },
                {
                  "0": "0.94",
                  "1": "14"
                },
                {
                  "0": "1.2",
                  "1": "22"
                },
                {
                  "0": "1.6",
                  "1": "39"
                },
                {
                  "0": "-0.57",
                  "1": "0"
                },
                {
                  "0": "1.97",
                  "1": "60"
                },
                {
                  "0": "-0.31",
                  "1": "0"
                },
                {
                  "0": "-0.4",
                  "1": "0"
                },
                {
                  "0": "1.61",
                  "1": "40"
                },
                {
                  "0": "-0.36",
                  "1": "0"
                },
                {
                  "0": "2.2",
                  "1": "74"
                },
                {
                  "0": "1.3",
                  "1": "26"
                },
                {
                  "0": "2.22",
                  "1": "76"
                },
                {
                  "0": "-0.16",
                  "1": "0"
                },
                {
                  "0": "3.3",
                  "1": "168"
                },
                {
                  "0": "4.4",
                  "1": "298"
                },
                {
                  "0": "2.3",
                  "1": "81"
                },
                {
                  "0": "1.87",
                  "1": "54"
                },
                {
                  "0": "1.24",
                  "1": "24"
                },
                {
                  "0": "-0.13",
                  "1": "0"
                },
                {
                  "0": "-0.47",
                  "1": "0"
                },
                {
                  "0": "2.0",
                  "1": "62"
                },
                {
                  "0": "0.46",
                  "1": "3"
                },
                {
                  "0": "-0.06",
                  "1": "0"
                },
                {
                  "0": "1.36",
                  "1": "28"
                },
                {
                  "0": "0.9",
                  "1": "12"
                },
                {
                  "0": "2.5",
                  "1": "96"
                },
                {
                  "0": "2.6",
                  "1": "104"
                },
                {
                  "0": "3.5",
                  "1": "188"
                },
                {
                  "0": "3.7",
                  "1": "211"
                },
                {
                  "0": "2.41",
                  "1": "89"
                },
                {
                  "0": "-0.19",
                  "1": "0"
                },
                {
                  "0": "1.4",
                  "1": "30"
                },
                {
                  "0": "1.0",
                  "1": "15"
                },
                {
                  "0": "1.7",
                  "1": "44"
                },
                {
                  "0": "0.59",
                  "1": "5"
                },
                {
                  "0": "2.9",
                  "1": "129"
                },
                {
                  "0": "-0.91",
                  "1": "0"
                },
                {
                  "0": "3.0",
                  "1": "138"
                },
                {
                  "0": "1.42",
                  "1": "31"
                },
                {
                  "0": "1.68",
                  "1": "43"
                },
                {
                  "0": "4.2",
                  "1": "271"
                },
                {
                  "0": "0.66",
                  "1": "7"
                },
                {
                  "0": "1.8",
                  "1": "50"
                },
                {
                  "0": "0.57",
                  "1": "5"
                },
                {
                  "0": "-0.07",
                  "1": "0"
                },
                {
                  "0": "1.1",
                  "1": "19"
                },
                {
                  "0": "1.3",
                  "1": "26"
                },
                {
                  "0": "1.3",
                  "1": "26"
                },
                {
                  "0": "2.7",
                  "1": "112"
                },
                {
                  "0": "1.02",
                  "1": "16"
                },
                {
                  "0": "3.0",
                  "1": "138"
                },
                {
                  "0": "-0.59",
                  "1": "0"
                },
                {
                  "0": "1.2",
                  "1": "22"
                },
                {
                  "0": "0.67",
                  "1": "7"
                },
                {
                  "0": "2.96",
                  "1": "135"
                },
                {
                  "0": "0.03",
                  "1": "0"
                },
                {
                  "0": "3.0",
                  "1": "138"
                },
                {
                  "0": "0.7",
                  "1": "8"
                },
                {
                  "0": "0.8",
                  "1": "10"
                },
                {
                  "0": "2.15",
                  "1": "71"
                },
                {
                  "0": "2.28",
                  "1": "80"
                },
                {
                  "0": "0.31",
                  "1": "1"
                },
                {
                  "0": "2.8",
                  "1": "121"
                },
                {
                  "0": "1.44",
                  "1": "32"
                },
                {
                  "0": "2.6",
                  "1": "104"
                },
                {
                  "0": "1.1",
                  "1": "19"
                },
                {
                  "0": "2.24",
                  "1": "77"
                },
                {
                  "0": "3.2",
                  "1": "158"
                },
                {
                  "0": "1.7",
                  "1": "44"
                },
                {
                  "0": "0.27",
                  "1": "1"
                },
                {
                  "0": "1.3",
                  "1": "26"
                },
                {
                  "0": "1.1",
                  "1": "19"
                },
                {
                  "0": "0.9",
                  "1": "12"
                },
                {
                  "0": "0.59",
                  "1": "5"
                },
                {
                  "0": "2.6",
                  "1": "104"
                },
                {
                  "0": "1.68",
                  "1": "43"
                },
                {
                  "0": "1.57",
                  "1": "38"
                },
                {
                  "0": "1.93",
                  "1": "57"
                },
                {
                  "0": "2.7",
                  "1": "112"
                },
                {
                  "0": "-0.46",
                  "1": "0"
                },
                {
                  "0": "-0.5",
                  "1": "0"
                },
                {
                  "0": "0.9",
                  "1": "12"
                },
                {
                  "0": "0.59",
                  "1": "5"
                },
                {
                  "0": "3.1",
                  "1": "148"
                },
                {
                  "0": "-0.44",
                  "1": "0"
                },
                {
                  "0": "1.1",
                  "1": "19"
                },
                {
                  "0": "1.62",
                  "1": "40"
                },
                {
                  "0": "0.45",
                  "1": "3"
                },
                {
                  "0": "1.2",
                  "1": "22"
                },
                {
                  "0": "0.37",
                  "1": "2"
                },
                {
                  "0": "1.13",
                  "1": "20"
                },
                {
                  "0": "1.79",
                  "1": "49"
                },
                {
                  "0": "-0.04",
                  "1": "0"
                },
                {
                  "0": "2.7",
                  "1": "112"
                },
                {
                  "0": "1.01",
                  "1": "16"
                },
                {
                  "0": "2.8",
                  "1": "121"
                },
                {
                  "0": "4.0",
                  "1": "246"
                },
                {
                  "0": "4.2",
                  "1": "271"
                },
                {
                  "0": "-0.43",
                  "1": "0"
                },
                {
                  "0": "1.5",
                  "1": "35"
                },
                {
                  "0": "1.38",
                  "1": "29"
                },
                {
                  "0": "2.8",
                  "1": "121"
                },
                {
                  "0": "2.4",
                  "1": "89"
                },
                {
                  "0": "1.6",
                  "1": "39"
                },
                {
                  "0": "2.9",
                  "1": "129"
                },
                {
                  "0": "3.5",
                  "1": "188"
                },
                {
                  "0": "1.4",
                  "1": "30"
                },
                {
                  "0": "2.6",
                  "1": "104"
                },
                {
                  "0": "1.1",
                  "1": "19"
                },
                {
                  "0": "3.2",
                  "1": "158"
                },
                {
                  "0": "0.8",
                  "1": "10"
                },
                {
                  "0": "1.97",
                  "1": "60"
                },
                {
                  "0": "3.3",
                  "1": "168"
                },
                {
                  "0": "2.5",
                  "1": "96"
                },
                {
                  "0": "3.0",
                  "1": "138"
                },
                {
                  "0": "0.72",
                  "1": "8"
                },
                {
                  "0": "3.0",
                  "1": "138"
                },
                {
                  "0": "2.6",
                  "1": "104"
                },
                {
                  "0": "1.8",
                  "1": "50"
                },
                {
                  "0": "3.0",
                  "1": "138"
                }
              ],
              "schema": [
                {
                  "key": "0",
                  "name": "mag",
                  "type": "double"
                },
                {
                  "key": "1",
                  "name": "sig",
                  "type": "bigint"
                }
              ],
              "truncated": false
            },
            "wranglerEntryContext": {
              "candidateVariableNames": [
                "df_scatter"
              ],
              "dataframeType": "pyspark"
            }
          },
          "type": "Synapse.DataFrame"
        },
        "93abf7aa-70fd-4ea4-a13b-235eebf8f22d": {
          "persist_state": {
            "view": {
              "chartOptions": {
                "aggregationType": "sum",
                "categoryFieldKeys": [
                  "0"
                ],
                "chartType": "bar",
                "isStacked": false,
                "seriesFieldKeys": [
                  "1"
                ]
              },
              "tableOptions": {},
              "type": "details"
            }
          },
          "sync_state": {
            "isSummary": false,
            "language": "scala",
            "table": {
              "rows": [
                {
                  "0": "ml",
                  "1": "540821"
                },
                {
                  "0": "md",
                  "1": "193937"
                },
                {
                  "0": "mb",
                  "1": "71439"
                },
                {
                  "0": "mww",
                  "1": "6256"
                },
                {
                  "0": "mwr",
                  "1": "2611"
                },
                {
                  "0": "ml(texnet)",
                  "1": "1116"
                },
                {
                  "0": "mb_lg",
                  "1": "750"
                },
                {
                  "0": "mw",
                  "1": "603"
                },
                {
                  "0": "mh",
                  "1": "513"
                },
                {
                  "1": "83"
                },
                {
                  "0": "mlv",
                  "1": "56"
                },
                {
                  "0": "mwb",
                  "1": "24"
                },
                {
                  "0": "mlr",
                  "1": "12"
                },
                {
                  "0": "mwp",
                  "1": "9"
                },
                {
                  "0": "mun",
                  "1": "8"
                },
                {
                  "0": "mwc",
                  "1": "2"
                },
                {
                  "0": "ms_20",
                  "1": "1"
                },
                {
                  "0": "mlg",
                  "1": "1"
                },
                {
                  "0": "ms_vx",
                  "1": "1"
                }
              ],
              "schema": [
                {
                  "key": "0",
                  "name": "magType",
                  "type": "string"
                },
                {
                  "key": "1",
                  "name": "count",
                  "type": "bigint"
                }
              ],
              "truncated": false
            },
            "wranglerEntryContext": {
              "dataframeType": "pyspark"
            }
          },
          "type": "Synapse.DataFrame"
        },
        "ba0f8839-80bc-445b-99e4-00975840780e": {
          "persist_state": {
            "view": {
              "chartOptions": {
                "aggregationType": "sum",
                "categoryFieldKeys": [
                  "0",
                  "1"
                ],
                "chartType": "pie",
                "isStacked": false,
                "seriesFieldKeys": [
                  "1"
                ]
              },
              "tableOptions": {},
              "type": "details"
            }
          },
          "sync_state": {
            "isSummary": false,
            "language": "scala",
            "table": {
              "rows": [
                {
                  "0": "Low",
                  "1": "683212"
                },
                {
                  "0": "Moderate",
                  "1": "133200"
                },
                {
                  "0": "High",
                  "1": "1831"
                }
              ],
              "schema": [
                {
                  "key": "0",
                  "name": "sig_class",
                  "type": "string"
                },
                {
                  "key": "1",
                  "name": "count",
                  "type": "bigint"
                }
              ],
              "truncated": false
            },
            "wranglerEntryContext": {
              "dataframeType": "pyspark"
            }
          },
          "type": "Synapse.DataFrame"
        },
        "fcb979fa-c9c0-475b-aed7-b2c20eec61eb": {
          "persist_state": {
            "view": {
              "chartOptions": {
                "aggregationType": "sum",
                "categoryFieldKeys": [
                  "1"
                ],
                "chartType": "bar",
                "isStacked": false,
                "seriesFieldKeys": [
                  "0"
                ]
              },
              "tableOptions": {},
              "type": "details"
            }
          },
          "sync_state": {
            "isSummary": false,
            "language": "scala",
            "table": {
              "rows": [
                {
                  "0": "8.2",
                  "1": "1498"
                },
                {
                  "0": "8.1",
                  "1": "1009"
                },
                {
                  "0": "8.1",
                  "1": "1021"
                },
                {
                  "0": "7.8",
                  "1": "1113"
                },
                {
                  "0": "7.8",
                  "1": "2910"
                },
                {
                  "0": "7.7",
                  "1": "928"
                },
                {
                  "0": "7.7",
                  "1": "1812"
                },
                {
                  "0": "7.7",
                  "1": "2910"
                },
                {
                  "0": "7.7",
                  "1": "918"
                },
                {
                  "0": "7.6",
                  "1": "910"
                }
              ],
              "schema": [
                {
                  "key": "0",
                  "name": "mag",
                  "type": "double"
                },
                {
                  "key": "1",
                  "name": "sig",
                  "type": "bigint"
                }
              ],
              "truncated": false
            },
            "wranglerEntryContext": {
              "dataframeType": "pyspark"
            }
          },
          "type": "Synapse.DataFrame"
        }
      },
      "version": "0.1"
    }
  },
  "nbformat": 4,
  "nbformat_minor": 2
}
